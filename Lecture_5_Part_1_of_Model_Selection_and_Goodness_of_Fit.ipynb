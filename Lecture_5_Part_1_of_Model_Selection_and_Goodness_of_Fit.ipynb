{
  "nbformat": 4,
  "nbformat_minor": 0,
  "metadata": {
    "colab": {
      "provenance": [],
      "collapsed_sections": [],
      "include_colab_link": true
    },
    "kernelspec": {
      "name": "python3",
      "display_name": "Python 3"
    },
    "language_info": {
      "name": "python"
    }
  },
  "cells": [
    {
      "cell_type": "markdown",
      "metadata": {
        "id": "view-in-github",
        "colab_type": "text"
      },
      "source": [
        "<a href=\"https://colab.research.google.com/github/alam740/Data-Analytics-Course/blob/master/Lecture_5_Part_1_of_Model_Selection_and_Goodness_of_Fit.ipynb\" target=\"_parent\"><img src=\"https://colab.research.google.com/assets/colab-badge.svg\" alt=\"Open In Colab\"/></a>"
      ]
    },
    {
      "cell_type": "markdown",
      "source": [
        "# Model Selection and Goodness of Fit\n",
        "## Part 1 of 2\n",
        "\n",
        "\n",
        "\n",
        "\n",
        "This notebook accompanies the ECE595 Data analytics course taught at Purdue in Fall 2022. These set of examples pertain to the materials of lecture 05.\n",
        "\n",
        "Written by Rohan Sheridan (sherida7@purdue.edu)"
      ],
      "metadata": {
        "id": "0_77f7mB7Tv7"
      }
    },
    {
      "cell_type": "code",
      "execution_count": null,
      "metadata": {
        "id": "l_KIJK9aYZzs"
      },
      "outputs": [],
      "source": [
        "import numpy as np\n",
        "import matplotlib.pyplot as plt\n",
        "from scipy.stats import norm\n",
        "from scipy.stats import bootstrap "
      ]
    },
    {
      "cell_type": "code",
      "source": [
        "X = np.array([0.2, -0.1, 0.5, 0.3, -0.6])\n",
        "\n",
        "from sklearn.utils import resample\n",
        "\n",
        "\n",
        "def bsSamples(x,n):\n",
        "\n",
        "  samples = []\n",
        "  for i in range(n):\n",
        "    rand = i\n",
        "    samples.append(resample(x, random_state=i, n_samples=len(x)))\n",
        "\n",
        "  return samples\n",
        "\n",
        "n = 10\n",
        "\n",
        "samples = bsSamples(X,n)\n",
        "\n",
        "for i in samples:\n",
        "  print(i)"
      ],
      "metadata": {
        "colab": {
          "base_uri": "https://localhost:8080/"
        },
        "id": "aLUrNjgz7UBV",
        "outputId": "290c2dec-4571-4da8-8c95-8ee3fdba1883"
      },
      "execution_count": null,
      "outputs": [
        {
          "output_type": "stream",
          "name": "stdout",
          "text": [
            "[-0.6  0.2  0.3  0.3  0.3]\n",
            "[ 0.3 -0.6  0.2 -0.1  0.3]\n",
            "[0.2 0.2 0.3 0.5 0.3]\n",
            "[ 0.5  0.2 -0.1  0.3  0.2]\n",
            "[ 0.5 -0.1  0.2  0.2  0.5]\n",
            "[ 0.3  0.2 -0.1  0.2 -0.6]\n",
            "[ 0.5 -0.1  0.3 -0.6  0.5]\n",
            "[-0.6 -0.1  0.3  0.3 -0.6]\n",
            "[ 0.3 -0.6 -0.1 -0.1  0.5]\n",
            "[-0.6  0.2  0.3 -0.1 -0.6]\n"
          ]
        }
      ]
    },
    {
      "cell_type": "code",
      "source": [
        "mu = 5\n",
        "sig = 1/2\n",
        "rv = norm(loc = mu, scale = sig)\n",
        "x = rv.rvs(5000,random_state=0)\n",
        "\n",
        "sample = rv.rvs(5,random_state=1)\n",
        "\n",
        "\n",
        "n = 100\n",
        "samples = bsSamples(sample,n)\n",
        "\n",
        "loc, scale = norm.fit(samples)\n",
        "rv2 = norm(loc, scale)\n",
        "x2 = rv2.rvs(5000,random_state=0)\n",
        "\n",
        "sample = np.reshape(sample,(1,len(sample)))\n",
        "bsMeanIN = bootstrap(sample,np.mean,n_resamples=n)\n",
        "bsSdevIN = bootstrap(sample,np.std,n_resamples=n)\n",
        "\n",
        "## choosing middle of confidence interval for true value\n",
        "\n",
        "bsMean = (bsMeanIN.confidence_interval[1] + bsMeanIN.confidence_interval[0])/2\n",
        "bsSdev = (bsSdevIN.confidence_interval[1] + bsSdevIN.confidence_interval[0])/2\n",
        "\n",
        "rv3 = norm(bsMean, bsSdev)\n",
        "x3 = rv3.rvs(5000,random_state=0)\n",
        "\n",
        "\n",
        "\n",
        "\n",
        "print(\"Graphs of Distribution and Fits\\n\")\n",
        "\n",
        "plt.figure(1)\n",
        "plt.hist(x,bins=20)\n",
        "plt.title(\"Underlying Distribution\",fontsize=20)\n",
        "plt.yticks([])\n",
        "plt.show()\n",
        "\n",
        "print(\"\\n\\n\")\n",
        "\n",
        "plt.figure(2)\n",
        "plt.hist(samples)\n",
        "plt.title(\"Histogram of Bootstrapped Samples\",fontsize=20)\n",
        "plt.yticks([])\n",
        "plt.show()\n",
        "\n",
        "print(\"\\n\\n\")\n",
        "\n",
        "plt.figure(3)\n",
        "plt.hist(x2)\n",
        "plt.title(\"Distribution Fitted \\n w/ Bootstrapped Samples\",fontsize=20)\n",
        "plt.yticks([])\n",
        "plt.show()\n",
        "\n",
        "print(\"\\n\\n\")\n",
        "\n",
        "plt.figure(4)\n",
        "plt.hist(x3)\n",
        "plt.title(\"Distribution Fitted \\n w/ Bootstrap Function\",fontsize=20)\n",
        "plt.yticks([])\n",
        "plt.show()\n",
        "\n",
        "print(\"\\n\\n\")\n",
        "\n",
        "print(\"Sample choosen from underlying distribution:\\n\",sample)\n",
        "\n",
        "print(\"\\nAfter creating bootstraped samples we can fit a\", \n",
        "      \"normal distribution using the synthetic samples\\n\",\n",
        "      \"Fit mean: \",loc,\n",
        "      \"\\nFit standard deviation: \",scale)\n",
        "\n",
        "print(\"\\nWe can also use a bootstraping method created by scipy\\n\",\n",
        "      \"We parse in one sample and here are the results:\\n\")\n",
        "\n",
        "print(\"Confidence Interval for mean:\\n\",\n",
        "      bsMeanIN.confidence_interval,'\\n\\n',\n",
        "      \"Confidence Interval for standard deviation:\\n\",\n",
        "      bsSdevIN.confidence_interval)\n",
        "\n",
        "print(\"\\nWe can take the true value of these statistics to be\",\n",
        "      \"in the middle of the distribution: \\n\", \n",
        "      \"Bootstrapped mean: \", bsMean,\n",
        "      \"\\nBootsrapped standard deviation: \",bsSdev)\n",
        "\n"
      ],
      "metadata": {
        "colab": {
          "base_uri": "https://localhost:8080/",
          "height": 1000
        },
        "id": "qkK8iQvEedBq",
        "outputId": "7dc5a3fc-dbca-44c7-81a9-a5cb5fa851a8"
      },
      "execution_count": null,
      "outputs": [
        {
          "output_type": "stream",
          "name": "stdout",
          "text": [
            "Graphs of Distribution and Fits\n",
            "\n"
          ]
        },
        {
          "output_type": "display_data",
          "data": {
            "text/plain": [
              "<Figure size 432x288 with 1 Axes>"
            ],
            "image/png": "[encoded data removed]"
          },
          "metadata": {
            "needs_background": "light"
          }
        },
        {
          "output_type": "stream",
          "name": "stdout",
          "text": [
            "\n",
            "\n",
            "\n"
          ]
        },
        {
          "output_type": "display_data",
          "data": {
            "text/plain": [
              "<Figure size 432x288 with 1 Axes>"
            ],
            "image/png": "[encoded data removed]"
          },
          "metadata": {
            "needs_background": "light"
          }
        },
        {
          "output_type": "stream",
          "name": "stdout",
          "text": [
            "\n",
            "\n",
            "\n"
          ]
        },
        {
          "output_type": "display_data",
          "data": {
            "text/plain": [
              "<Figure size 432x288 with 1 Axes>"
            ],
            "image/png": "[encoded data removed]"
          },
          "metadata": {
            "needs_background": "light"
          }
        },
        {
          "output_type": "stream",
          "name": "stdout",
          "text": [
            "\n",
            "\n",
            "\n"
          ]
        },
        {
          "output_type": "display_data",
          "data": {
            "text/plain": [
              "<Figure size 432x288 with 1 Axes>"
            ],
            "image/png": "[encoded data removed]"
          },
          "metadata": {
            "needs_background": "light"
          }
        },
        {
          "output_type": "stream",
          "name": "stdout",
          "text": [
            "\n",
            "\n",
            "\n",
            "Sample choosen from underlying distribution:\n",
            " [[5.81217268 4.69412179 4.73591412 4.46351569 5.43270381]]\n",
            "\n",
            "After creating bootstraped samples we can fit a normal distribution using the synthetic samples\n",
            " Fit mean:  5.0532328309175085 \n",
            "Fit standard deviation:  0.5254439121080979\n",
            "\n",
            "We can also use a bootstraping method created by scipy\n",
            " We parse in one sample and here are the results:\n",
            "\n",
            "Confidence Interval for mean:\n",
            " ConfidenceInterval(low=4.664717504601677, high=5.61962723662882) \n",
            "\n",
            " Confidence Interval for standard deviation:\n",
            " ConfidenceInterval(low=0.347478766444474, high=0.6140898747034693)\n",
            "\n",
            "We can take the true value of these statistics to be  in the middle of the distribution: \n",
            " Bootstrapped mean:  5.142172370615249 \n",
            "Bootsrapped standard deviation:  0.4807843205739717\n"
          ]
        }
      ]
    },
    {
      "cell_type": "markdown",
      "source": [
        "https://scikit-learn.org/stable/modules/cross_validation.html\n"
      ],
      "metadata": {
        "id": "OfzujbzDYmuQ"
      }
    },
    {
      "cell_type": "code",
      "source": [
        "from sklearn import linear_model\n",
        "\n",
        "np.random.seed(0)\n",
        "\n",
        "n = 25\n",
        "x = np.reshape(np.linspace(0,5,n),(n,1))\n",
        "\n",
        "y = 3*x + 5 + np.random.normal(0,0.5,np.shape(x))\n",
        "\n",
        "plt.scatter(x,y)\n",
        "\n",
        "reg = linear_model.LinearRegression()\n",
        "\n",
        "\n",
        "reg.fit(x,y)\n",
        "\n",
        "reg.coef_\n",
        "\n",
        "yfit = reg.predict(x)\n",
        "\n",
        "plt.plot(x,yfit)\n",
        "\n",
        "plt.show()\n",
        "\n",
        "## Same model testing functions used in previous lectures\n",
        "\n",
        "def residual(y,yfit):\n",
        "\n",
        "  e = np.square(y-yfit)\n",
        "\n",
        "  R = np.sum(e)\n",
        "\n",
        "  return R\n",
        "\n",
        "\n",
        "def r2Adj(R2,M,y):\n",
        "\n",
        "  R2 = R2**2\n",
        "\n",
        "  n = len(y)\n",
        "\n",
        "  return ((n - 1)*R2 - (M - 1))/(n - M)\n",
        "\n",
        "def AIC(R2,M,y):\n",
        "\n",
        "  n = len(y)\n",
        "\n",
        "  return n*np.log(R2/n) + 2*M\n",
        "\n",
        "def BIC(R2,M,y):\n",
        "\n",
        "  n = len(y)\n",
        "\n",
        "  return n*np.log(R2/n) + M*np.log(n)\n",
        "\n",
        "\n",
        "R2 = residual(y,yfit)\n",
        "\n",
        "R2a = r2Adj(R2,1,y)\n",
        "\n",
        "A = AIC(R2,1,y)\n",
        "\n",
        "S = BIC(R2,1,y)\n",
        "\n",
        "print(R2,R2a,A,S)\n",
        "\n"
      ],
      "metadata": {
        "colab": {
          "base_uri": "https://localhost:8080/",
          "height": 282
        },
        "id": "WdTBH_swqwGB",
        "outputId": "b44cd2d0-67a0-4383-eba0-31c9965a34aa"
      },
      "execution_count": null,
      "outputs": [
        {
          "output_type": "display_data",
          "data": {
            "text/plain": [
              "<Figure size 432x288 with 1 Axes>"
            ],
            "image/png": "[encoded data removed]"
          },
          "metadata": {
            "needs_background": "light"
          }
        },
        {
          "output_type": "stream",
          "name": "stdout",
          "text": [
            "6.588571574285596 43.40927538948418 -31.338481410161386 -30.119605585293186\n"
          ]
        }
      ]
    }
  ]
}
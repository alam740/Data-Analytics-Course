{
  "nbformat": 4,
  "nbformat_minor": 0,
  "metadata": {
    "colab": {
      "provenance": [],
      "collapsed_sections": [
        "CGbtB7aXmWUk",
        "5fyogEMFCTf6"
      ],
      "toc_visible": true,
      "include_colab_link": true
    },
    "kernelspec": {
      "name": "python3",
      "display_name": "Python 3"
    },
    "language_info": {
      "name": "python"
    },
    "widgets": {
      "application/vnd.jupyter.widget-state+json": {
        "6f175fc9003f439d9a211eaf85e90b32": {
          "model_module": "@jupyter-widgets/controls",
          "model_name": "HBoxModel",
          "model_module_version": "1.5.0",
          "state": {
            "_dom_classes": [],
            "_model_module": "@jupyter-widgets/controls",
            "_model_module_version": "1.5.0",
            "_model_name": "HBoxModel",
            "_view_count": null,
            "_view_module": "@jupyter-widgets/controls",
            "_view_module_version": "1.5.0",
            "_view_name": "HBoxView",
            "box_style": "",
            "children": [
              "IPY_MODEL_4aae0738d7424be69dcf21e514274c29"
            ],
            "layout": "IPY_MODEL_3828b8fb47c2471c8687a052e918f204"
          }
        },
        "4aae0738d7424be69dcf21e514274c29": {
          "model_module": "@jupyter-widgets/controls",
          "model_name": "BoundedIntTextModel",
          "model_module_version": "1.5.0",
          "state": {
            "_dom_classes": [],
            "_model_module": "@jupyter-widgets/controls",
            "_model_module_version": "1.5.0",
            "_model_name": "BoundedIntTextModel",
            "_view_count": null,
            "_view_module": "@jupyter-widgets/controls",
            "_view_module_version": "1.5.0",
            "_view_name": "IntTextView",
            "continuous_update": true,
            "description": "Number of Variables:",
            "description_tooltip": null,
            "disabled": false,
            "layout": "IPY_MODEL_004a1a529d344301a7fe4b453ad22a98",
            "max": 100,
            "min": 0,
            "step": 1,
            "style": "IPY_MODEL_daf876d08a90413fb93131975644ea2f",
            "value": 0
          }
        },
        "3828b8fb47c2471c8687a052e918f204": {
          "model_module": "@jupyter-widgets/base",
          "model_name": "LayoutModel",
          "model_module_version": "1.2.0",
          "state": {
            "_model_module": "@jupyter-widgets/base",
            "_model_module_version": "1.2.0",
            "_model_name": "LayoutModel",
            "_view_count": null,
            "_view_module": "@jupyter-widgets/base",
            "_view_module_version": "1.2.0",
            "_view_name": "LayoutView",
            "align_content": null,
            "align_items": null,
            "align_self": null,
            "border": null,
            "bottom": null,
            "display": null,
            "flex": null,
            "flex_flow": null,
            "grid_area": null,
            "grid_auto_columns": null,
            "grid_auto_flow": null,
            "grid_auto_rows": null,
            "grid_column": null,
            "grid_gap": null,
            "grid_row": null,
            "grid_template_areas": null,
            "grid_template_columns": null,
            "grid_template_rows": null,
            "height": null,
            "justify_content": null,
            "justify_items": null,
            "left": null,
            "margin": null,
            "max_height": null,
            "max_width": null,
            "min_height": null,
            "min_width": null,
            "object_fit": null,
            "object_position": null,
            "order": null,
            "overflow": null,
            "overflow_x": null,
            "overflow_y": null,
            "padding": null,
            "right": null,
            "top": null,
            "visibility": null,
            "width": null
          }
        },
        "004a1a529d344301a7fe4b453ad22a98": {
          "model_module": "@jupyter-widgets/base",
          "model_name": "LayoutModel",
          "model_module_version": "1.2.0",
          "state": {
            "_model_module": "@jupyter-widgets/base",
            "_model_module_version": "1.2.0",
            "_model_name": "LayoutModel",
            "_view_count": null,
            "_view_module": "@jupyter-widgets/base",
            "_view_module_version": "1.2.0",
            "_view_name": "LayoutView",
            "align_content": null,
            "align_items": null,
            "align_self": null,
            "border": null,
            "bottom": null,
            "display": null,
            "flex": null,
            "flex_flow": null,
            "grid_area": null,
            "grid_auto_columns": null,
            "grid_auto_flow": null,
            "grid_auto_rows": null,
            "grid_column": null,
            "grid_gap": null,
            "grid_row": null,
            "grid_template_areas": null,
            "grid_template_columns": null,
            "grid_template_rows": null,
            "height": null,
            "justify_content": null,
            "justify_items": null,
            "left": null,
            "margin": null,
            "max_height": null,
            "max_width": null,
            "min_height": null,
            "min_width": null,
            "object_fit": null,
            "object_position": null,
            "order": null,
            "overflow": null,
            "overflow_x": null,
            "overflow_y": null,
            "padding": null,
            "right": null,
            "top": null,
            "visibility": null,
            "width": null
          }
        },
        "daf876d08a90413fb93131975644ea2f": {
          "model_module": "@jupyter-widgets/controls",
          "model_name": "DescriptionStyleModel",
          "model_module_version": "1.5.0",
          "state": {
            "_model_module": "@jupyter-widgets/controls",
            "_model_module_version": "1.5.0",
            "_model_name": "DescriptionStyleModel",
            "_view_count": null,
            "_view_module": "@jupyter-widgets/base",
            "_view_module_version": "1.2.0",
            "_view_name": "StyleView",
            "description_width": "initial"
          }
        }
      }
    }
  },
  "cells": [
    {
      "cell_type": "markdown",
      "metadata": {
        "id": "view-in-github",
        "colab_type": "text"
      },
      "source": [
        "<a href=\"https://colab.research.google.com/github/alam740/Data-Analytics-Course/blob/master/ECE_595_Lecture_7_Buckingham_Pi_Theorem.ipynb\" target=\"_parent\"><img src=\"https://colab.research.google.com/assets/colab-badge.svg\" alt=\"Open In Colab\"/></a>"
      ]
    },
    {
      "cell_type": "markdown",
      "source": [
        "# Applying the Buckingham $\\pi$ theorem\n",
        "\n",
        "\n",
        "*This notebook accompanies the ECE595 Data analytics course taught at Purdue in Fall 2022. These set of examples pertain to the materials of lecture 07.*\n",
        "\n",
        "*Written by Jabir Bin Jahangir (jabir@purdue.edu)*\n",
        "\n"
      ],
      "metadata": {
        "id": "ba6N_6Dosgnw"
      }
    },
    {
      "cell_type": "markdown",
      "source": [
        "# Example 1:  Calculating the dimensionless variables\n",
        "\n",
        "Let $L = f(T, k_B, h, R, E_B)$\n",
        "\n",
        "The dimensions of the variables expressed in terms of basic dimensions\n",
        "- $[T]  = M^0L^0t^0\\theta^1$\n",
        "- $[k_B]  = M^1L^2t^{-2}\\theta^{-1}$\n",
        "- $[h]  = M^1L^2t^{-2}\\theta^{0}$\n",
        "- $[R]  = M^0L^0t^{-1}\\theta^{0}$\n",
        "- $[E_B]  = M^1L^2t^{-2}\\theta^{0}$\n",
        "\n",
        "Determine a dimensionless $\\pi$-group.\n",
        "\n",
        "---\n"
      ],
      "metadata": {
        "id": "CGbtB7aXmWUk"
      }
    },
    {
      "cell_type": "markdown",
      "source": [
        "## Step by step solution"
      ],
      "metadata": {
        "id": "HPPpPsGcZb6d"
      }
    },
    {
      "cell_type": "code",
      "execution_count": null,
      "metadata": {
        "colab": {
          "base_uri": "https://localhost:8080/"
        },
        "id": "7NEGfd9QiYRj",
        "outputId": "a9cda7ea-34e2-491d-8bf6-f02ea9a6771d"
      },
      "outputs": [
        {
          "output_type": "stream",
          "name": "stdout",
          "text": [
            "[[ 0  0  0  1]\n",
            " [ 1  2 -2 -1]\n",
            " [ 1  2 -1  0]\n",
            " [ 0  0 -1  0]\n",
            " [ 1  2 -2  0]]\n"
          ]
        }
      ],
      "source": [
        "from scipy.linalg import null_space\n",
        "import numpy as np\n",
        "\n",
        "# Number of variables \n",
        "N = 5; \n",
        "\n",
        "# Construct the dimensional matrix with exponents of the fundamental dimensions\n",
        "D = np.array([[0, 0, 0, 1], [1, 2, -2, -1],[1, 2, -1, 0],[0, 0, -1, 0],[1, 2, -2, 0]])\n",
        "print(D); "
      ]
    },
    {
      "cell_type": "code",
      "source": [
        "# Determine the rank of the matrix\n",
        "r = np.linalg.matrix_rank(D);\n",
        "print(r);\n"
      ],
      "metadata": {
        "colab": {
          "base_uri": "https://localhost:8080/"
        },
        "id": "WZbVTmxSlqlT",
        "outputId": "c03b6fb8-1eb0-4505-cc33-f16c47840051"
      },
      "execution_count": null,
      "outputs": [
        {
          "output_type": "stream",
          "name": "stdout",
          "text": [
            "3\n"
          ]
        }
      ]
    },
    {
      "cell_type": "code",
      "source": [
        "# number of pi parameters\n",
        "pi_vars = N - r; \n",
        "print(pi_vars)"
      ],
      "metadata": {
        "colab": {
          "base_uri": "https://localhost:8080/"
        },
        "id": "DZoMjotrlsbI",
        "outputId": "b82ac1d2-2fd4-4eee-f629-cf6fba020173"
      },
      "execution_count": null,
      "outputs": [
        {
          "output_type": "stream",
          "name": "stdout",
          "text": [
            "2\n"
          ]
        }
      ]
    },
    {
      "cell_type": "code",
      "source": [
        "# number of repeating variable\n",
        "rep = r;  \n",
        "print(r)"
      ],
      "metadata": {
        "colab": {
          "base_uri": "https://localhost:8080/"
        },
        "id": "LbDfVHJ9oYTx",
        "outputId": "bb556f40-673d-439d-fad9-1037ccbbfdd5"
      },
      "execution_count": null,
      "outputs": [
        {
          "output_type": "stream",
          "name": "stdout",
          "text": [
            "3\n"
          ]
        }
      ]
    },
    {
      "cell_type": "markdown",
      "source": [
        "We seek solutions to  $\\mathbf{D}\\mathbf{E} = \\begin{bmatrix}\n",
        "\\mathbf{P}&\n",
        "\\mathbf{Q} \n",
        "\\end{bmatrix} \\mathbf{E} = 0$  \n",
        "\n",
        "Since, $\\begin{bmatrix}\n",
        "\\mathbf{P} &\n",
        "\\mathbf{Q} \n",
        "\\end{bmatrix}\\begin{bmatrix}\n",
        "\\mathbf{-P^{-1}Q} & \\mathbf{I} \\end{bmatrix}^T = 0$ \n",
        "\n",
        "Therefore the exponent matrix, $\\mathbf{E} = \\begin{bmatrix}\n",
        "\\mathbf{-P^{-1}Q} & \\mathbf{I} \\end{bmatrix}^T$"
      ],
      "metadata": {
        "id": "mJ7lvJoIAjhL"
      }
    },
    {
      "cell_type": "code",
      "source": [
        "# First choose a non-singular submatrix\n",
        "row_range = slice(0, 3)\n",
        "col_range = slice(1, 4)\n",
        "\n",
        "p_1  = D[row_range, col_range];\n",
        "p_1 = np.linalg.inv(p_1); \n",
        "print(p_1)"
      ],
      "metadata": {
        "colab": {
          "base_uri": "https://localhost:8080/"
        },
        "id": "x_mZRCjplu47",
        "outputId": "91d6e582-4969-4001-8875-25be5680c738"
      },
      "execution_count": null,
      "outputs": [
        {
          "output_type": "stream",
          "name": "stdout",
          "text": [
            "[[-0.5 -0.5  1. ]\n",
            " [-1.  -1.   1. ]\n",
            " [ 1.   0.   0. ]]\n"
          ]
        }
      ]
    },
    {
      "cell_type": "code",
      "source": [
        "q_1 = -1 * D[3:6, 1:4];\n",
        "print(q_1)"
      ],
      "metadata": {
        "colab": {
          "base_uri": "https://localhost:8080/"
        },
        "id": "oTOsRT4nmMkA",
        "outputId": "5f38f58a-653e-47e7-8f75-a3d23c321660"
      },
      "execution_count": null,
      "outputs": [
        {
          "output_type": "stream",
          "name": "stdout",
          "text": [
            "[[ 0  1  0]\n",
            " [-2  2  0]]\n"
          ]
        }
      ]
    },
    {
      "cell_type": "code",
      "source": [
        "# Calculating the exponent matrix\n",
        "E_ = np.matmul(q_1, p_1);  # Intermediate result\n",
        "E = np.hstack((E_, np.eye(pi_vars))) # Putting in all together\n",
        "print(np.transpose(E));"
      ],
      "metadata": {
        "colab": {
          "base_uri": "https://localhost:8080/"
        },
        "id": "E1GzKJtFm7ra",
        "outputId": "ff246db6-bf7c-4f2f-ff81-907caaafb2db"
      },
      "execution_count": null,
      "outputs": [
        {
          "output_type": "stream",
          "name": "stdout",
          "text": [
            "[[-1. -1.]\n",
            " [-1. -1.]\n",
            " [ 1.  0.]\n",
            " [ 1.  0.]\n",
            " [ 0.  1.]]\n"
          ]
        }
      ]
    },
    {
      "cell_type": "markdown",
      "source": [
        "$\\pi_1 = \\frac{hR}{k_BT}$ and $\\pi_2 = \\frac{E_B}{k_BT}$"
      ],
      "metadata": {
        "id": "RMrbvoLgFVz0"
      }
    },
    {
      "cell_type": "markdown",
      "source": [
        "## A faster way\n",
        "\n",
        "Following code solves for the null space of the dimensional matrix"
      ],
      "metadata": {
        "id": "tOd7ES8zZVLm"
      }
    },
    {
      "cell_type": "code",
      "source": [
        "from sympy import *;\n",
        "init_printing(use_unicode=True)\n",
        "\n",
        "D2 =  Matrix(np.transpose(D))\n",
        "E2 = D2.nullspace()\n",
        "E2"
      ],
      "metadata": {
        "colab": {
          "base_uri": "https://localhost:8080/"
        },
        "id": "NZ37BAYfsH48",
        "outputId": "d460448d-b6cf-440a-8c62-73638318d1de"
      },
      "execution_count": null,
      "outputs": [
        {
          "output_type": "execute_result",
          "data": {
            "text/plain": [
              "⎡⎡-1⎤  ⎡-1⎤⎤\n",
              "⎢⎢  ⎥  ⎢  ⎥⎥\n",
              "⎢⎢-1⎥  ⎢-1⎥⎥\n",
              "⎢⎢  ⎥  ⎢  ⎥⎥\n",
              "⎢⎢1 ⎥, ⎢0 ⎥⎥\n",
              "⎢⎢  ⎥  ⎢  ⎥⎥\n",
              "⎢⎢1 ⎥  ⎢0 ⎥⎥\n",
              "⎢⎢  ⎥  ⎢  ⎥⎥\n",
              "⎣⎣0 ⎦  ⎣1 ⎦⎦"
            ],
            "text/latex": "$\\displaystyle \\left[ \\left[\\begin{matrix}-1\\\\-1\\\\1\\\\1\\\\0\\end{matrix}\\right], \\  \\left[\\begin{matrix}-1\\\\-1\\\\0\\\\0\\\\1\\end{matrix}\\right]\\right]$"
          },
          "metadata": {},
          "execution_count": 8
        }
      ]
    },
    {
      "cell_type": "markdown",
      "source": [
        "# Generating all possible combinations\n",
        "\n",
        "Applying Buckingham $\\pi$-theorem it is possible to then generate all possible combination dimensionless $\\pi$-groups. To do this, we will use the [BuckinghamPy package](https://github.com/saadgroup/BuckinghamPy). The package automatically carries out the above procedure to obtain other possible combinations. \n",
        "\n",
        "## Run the following cell to install the BuckinghamPy package."
      ],
      "metadata": {
        "id": "5fyogEMFCTf6"
      }
    },
    {
      "cell_type": "code",
      "source": [
        "\n",
        "!git clone https://github.com/saadgroup/BuckinghamPy.git BuckinghamPy\n",
        "!pip install ./BuckinghamPy/\n"
      ],
      "metadata": {
        "colab": {
          "base_uri": "https://localhost:8080/"
        },
        "id": "8dZ11MfpChKV",
        "outputId": "47463d7c-31cb-4fd6-844b-1fc8fa653fef"
      },
      "execution_count": null,
      "outputs": [
        {
          "output_type": "stream",
          "name": "stdout",
          "text": [
            "Cloning into 'BuckinghamPy'...\n",
            "remote: Enumerating objects: 473, done.\u001b[K\n",
            "remote: Counting objects: 100% (59/59), done.\u001b[K\n",
            "remote: Compressing objects: 100% (21/21), done.\u001b[K\n",
            "remote: Total 473 (delta 51), reused 38 (delta 38), pack-reused 414\u001b[K\n",
            "Receiving objects: 100% (473/473), 1.17 MiB | 3.79 MiB/s, done.\n",
            "Resolving deltas: 100% (242/242), done.\n",
            "Looking in indexes: https://pypi.org/simple, https://us-python.pkg.dev/colab-wheels/public/simple/\n",
            "Processing ./BuckinghamPy\n",
            "\u001b[33m  DEPRECATION: A future pip version will change local packages to be built in-place without first copying to a temporary directory. We recommend you use --use-feature=in-tree-build to test your packages with this new behavior before it becomes the default.\n",
            "   pip 21.3 will remove support for this functionality. You can find discussion regarding this at https://github.com/pypa/pip/issues/7555.\u001b[0m\n",
            "Requirement already satisfied: numpy>=1.16.2 in /usr/local/lib/python3.7/dist-packages (from buckinghampy==1.0.2) (1.21.6)\n",
            "Requirement already satisfied: sympy>=1.3 in /usr/local/lib/python3.7/dist-packages (from buckinghampy==1.0.2) (1.7.1)\n",
            "Requirement already satisfied: tabulate>=0.8.9 in /usr/local/lib/python3.7/dist-packages (from buckinghampy==1.0.2) (0.8.10)\n",
            "Requirement already satisfied: mpmath>=0.19 in /usr/local/lib/python3.7/dist-packages (from sympy>=1.3->buckinghampy==1.0.2) (1.2.1)\n",
            "Building wheels for collected packages: buckinghampy\n",
            "  Building wheel for buckinghampy (setup.py) ... \u001b[?25l\u001b[?25hdone\n",
            "  Created wheel for buckinghampy: filename=buckinghampy-1.0.2-py3-none-any.whl size=8319 sha256=4ef6576b815d68d74ad3f7a7196a9f67ffd9a6767db1d7746088c08c2a8e7019\n",
            "  Stored in directory: /tmp/pip-ephem-wheel-cache-n9kw1qzs/wheels/ed/7d/3e/255db67e6e6c2ac60afb5f68c075a9afb495b282b06ab50154\n",
            "Successfully built buckinghampy\n",
            "Installing collected packages: buckinghampy\n",
            "Successfully installed buckinghampy-1.0.2\n"
          ]
        }
      ]
    },
    {
      "cell_type": "code",
      "source": [
        "# from buckinghampy import BuckinghamPi\n",
        "\n",
        "# example = BuckinghamPi()\n",
        "# example.add_variable(name='T',dimensions='M^(0)*L^(0)*T^(0)*F')   \n",
        "# example.add_variable(name='k',dimensions='M*L^(2)*T^(-2)*F^(-1)', non_repeating=True)                           \n",
        "# example.add_variable(name='h',dimensions='M*L^(2)*T^(-1)*F^(0)')                      \n",
        "# example.add_variable(name='R',dimensions='M^(0)*L^(0)*T^(-1)*F^(0)')           \n",
        "# example.add_variable(name='E',dimensions='M*L^(2)*T^(-2)*F^(0)')                 \n",
        "\n",
        "\n",
        "# example.generate_pi_terms()\n",
        "# example.print_all()\n",
        "# print('\\n')\n",
        "# print(example.variables)\n",
        "# print(example.fundamental_variables)\n",
        "# print(example._BuckinghamPi__null_spaces)\n",
        "# print(example.M)\n",
        "# print('\\n')\n",
        "# s = Matrix(example.M); \n",
        "# print(s.nullspace())"
      ],
      "metadata": {
        "id": "TmkqlsmxF4LH"
      },
      "execution_count": null,
      "outputs": []
    },
    {
      "cell_type": "markdown",
      "source": [
        "# Example 2: Newton anticipates Einstein's results\n",
        "\n",
        "**Use Buckingham $\\pi$ theorem to analyze the remarkable fact that Newton foresaw bending of light by gravity long\n",
        "before Einstein!**\n",
        "\n",
        "Assuming the sun can be treated as a point of mass m and the ray of light passes the mass with a distance of\n",
        "closest approach $r$, dimensional reasoning helps to predict the defection angle $\\theta$. The problem involves 3\n",
        "of the 7 fundamental units: mass M, length L, and time T\n",
        "\n",
        "Consider we first guess $\\theta$ depends on only $r$ and $m$. The dimensions of this variables are $[\\theta] = 1$, $[r] = M^0L^1T^0$, $[m] = M^1L^0T^0$. "
      ],
      "metadata": {
        "id": "SQ5gLcS-VkN6"
      }
    },
    {
      "cell_type": "code",
      "source": [
        "from buckinghampy import BuckinghamPi\n",
        "\n",
        "ex2 = BuckinghamPi()\n",
        "ex2.add_variable(name='{\\\\theta}',dimensions='1') \n",
        "ex2.add_variable(name='r',dimensions='M^(0)*L^(1)*T^(0)') \n",
        "ex2.add_variable(name='m',dimensions='M^(1)*L^(0)*T^(0)') \n",
        "\n"
      ],
      "metadata": {
        "id": "VBkB1LIuTCTz"
      },
      "execution_count": null,
      "outputs": []
    },
    {
      "cell_type": "code",
      "source": [
        "try:\n",
        "  ex2.generate_pi_terms()\n",
        "except Exception as e:\n",
        "  print(e)"
      ],
      "metadata": {
        "colab": {
          "base_uri": "https://localhost:8080/"
        },
        "id": "Jh7LSRvEW7Xj",
        "outputId": "aaf1e6fd-d30a-40a5-ef55-971d910144a0"
      },
      "execution_count": null,
      "outputs": [
        {
          "output_type": "stream",
          "name": "stdout",
          "text": [
            "The number of variables has to be greater than the number of physical dimensions.\n"
          ]
        }
      ]
    },
    {
      "cell_type": "markdown",
      "source": [
        "We find that there are no solutions to the dimensional matrix. Thus we cannot write a dimensionally homogenous equation for $\\theta$ with these variables alone and must consider additional dimensional constants or variables. It turns out to get a physical solution we need to introduce gravitational constant $G$ and light velocity  $c$ to the mix. "
      ],
      "metadata": {
        "id": "626sG3IuW5jZ"
      }
    },
    {
      "cell_type": "code",
      "source": [
        "ex2.add_variable(name='G',dimensions='M^(-1)*L^(3)*T^(-2)')\n",
        "ex2.add_variable(name='c',dimensions='M^(0)*L^(1)*T^(-1)')\n",
        "\n",
        "ex2.generate_pi_terms()\n",
        "ex2.print_all()"
      ],
      "metadata": {
        "colab": {
          "base_uri": "https://localhost:8080/",
          "height": 127
        },
        "id": "QX5PZwt_VNlE",
        "outputId": "05e0a897-808b-4e1d-cbd4-180958e0a9a2"
      },
      "execution_count": null,
      "outputs": [
        {
          "output_type": "display_data",
          "data": {
            "text/plain": [
              "<IPython.core.display.Math object>"
            ],
            "text/latex": "$\\displaystyle \\text{Set }1: \\quad\\pi_1 = \\frac{G m}{c^{2} r}\\quad\\pi_2 = {\\theta}\\quad$"
          },
          "metadata": {}
        },
        {
          "output_type": "display_data",
          "data": {
            "text/plain": [
              "<IPython.core.display.Markdown object>"
            ],
            "text/markdown": "---"
          },
          "metadata": {}
        },
        {
          "output_type": "display_data",
          "data": {
            "text/plain": [
              "<IPython.core.display.Math object>"
            ],
            "text/latex": "$\\displaystyle \\text{Set }2: \\quad\\pi_1 = \\frac{c \\sqrt{r}}{\\sqrt{G} \\sqrt{m}}\\quad\\pi_2 = {\\theta}\\quad$"
          },
          "metadata": {}
        },
        {
          "output_type": "display_data",
          "data": {
            "text/plain": [
              "<IPython.core.display.Markdown object>"
            ],
            "text/markdown": "---"
          },
          "metadata": {}
        }
      ]
    },
    {
      "cell_type": "markdown",
      "source": [
        "Therefore, we may write $\\theta = f(\\frac{Gm}{c^2r})$. Different theories predict $\\theta \\propto \\frac{Gm}{c^2r}$ or $\\theta = \\alpha \\frac{Gm}{c^2r}$ where $\\alpha$ is a dimensionless constant. While Einstein's general relativity asserts $\\alpha$ = 4, the simpler newtonian mechanics predicts $\\alpha$ = 2."
      ],
      "metadata": {
        "id": "BK8QMj89hs8d"
      }
    },
    {
      "cell_type": "markdown",
      "source": [
        "### The GUI application\n",
        "\n",
        "Following cell contains a convenient graphical UI implementation to perform the above routines. \n"
      ],
      "metadata": {
        "id": "IoT2RHP5gvQO"
      }
    },
    {
      "cell_type": "code",
      "source": [
        "from buckinghampy import BuckinghamPiGui\n",
        "\n",
        "GUI=BuckinghamPiGui()"
      ],
      "metadata": {
        "colab": {
          "base_uri": "https://localhost:8080/",
          "height": 49,
          "referenced_widgets": [
            "6f175fc9003f439d9a211eaf85e90b32",
            "4aae0738d7424be69dcf21e514274c29",
            "3828b8fb47c2471c8687a052e918f204",
            "004a1a529d344301a7fe4b453ad22a98",
            "daf876d08a90413fb93131975644ea2f"
          ]
        },
        "id": "x7yPtbXMXNqL",
        "outputId": "036d522e-eca1-460a-ec93-c695f1bdb0b4"
      },
      "execution_count": null,
      "outputs": [
        {
          "output_type": "display_data",
          "data": {
            "text/plain": [
              "HBox(children=(BoundedIntText(value=0, continuous_update=True, description='Number of Variables:', style=Descr…"
            ],
            "application/vnd.jupyter.widget-view+json": {
              "version_major": 2,
              "version_minor": 0,
              "model_id": "6f175fc9003f439d9a211eaf85e90b32"
            }
          },
          "metadata": {}
        }
      ]
    },
    {
      "cell_type": "markdown",
      "source": [],
      "metadata": {
        "id": "rusWTBl3Hzmo"
      }
    }
  ]
}
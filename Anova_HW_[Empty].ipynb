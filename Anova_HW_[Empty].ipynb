{
  "nbformat": 4,
  "nbformat_minor": 0,
  "metadata": {
    "colab": {
      "provenance": [],
      "collapsed_sections": [],
      "authorship_tag": "ABX9TyMY1pvwtjO4CZsipCkK2AHR",
      "include_colab_link": true
    },
    "kernelspec": {
      "name": "python3",
      "display_name": "Python 3"
    },
    "language_info": {
      "name": "python"
    }
  },
  "cells": [
    {
      "cell_type": "markdown",
      "metadata": {
        "id": "view-in-github",
        "colab_type": "text"
      },
      "source": [
        "<a href=\"https://colab.research.google.com/github/alam740/Data-Analytics-Course/blob/master/Anova_HW_%5BEmpty%5D.ipynb\" target=\"_parent\"><img src=\"https://colab.research.google.com/assets/colab-badge.svg\" alt=\"Open In Colab\"/></a>"
      ]
    },
    {
      "cell_type": "code",
      "execution_count": null,
      "metadata": {
        "id": "h_sVEuIpvd7G"
      },
      "outputs": [],
      "source": [
        "import pandas as pd\n",
        "import matplotlib.pyplot as plt\n",
        "import seaborn as sns\n",
        "import scipy.stats as stats\n",
        "import statsmodels.api as sm\n",
        "from statsmodels.formula.api import ols\n",
        "import numpy as np\n"
      ]
    },
    {
      "cell_type": "code",
      "source": [
        "#@title Summary Function\n",
        "def Summary(df):\n",
        "\n",
        "  groups = list(df)\n",
        "\n",
        "  count = []\n",
        "  summ = []\n",
        "  avg = []\n",
        "  vari = []\n",
        "\n",
        "  for index in groups:\n",
        "\n",
        "    count.append(np.size(df[index]))\n",
        "    summ.append(np.sum(df[index]))\n",
        "    avg.append(np.average(df[index]))\n",
        "    vari.append(np.var(df[index]))\n",
        "\n",
        "  summary = {\"Groups\":groups,\n",
        "             \"Count\":count,\n",
        "             \"Sum\":summ,\n",
        "             \"Average\":avg,\n",
        "             \"Variance\":vari}\n",
        "\n",
        "  summary = pd.DataFrame(summary)\n",
        "\n",
        "  return summary\n"
      ],
      "metadata": {
        "id": "ROlwuh0o7GtI",
        "cellView": "form"
      },
      "execution_count": null,
      "outputs": []
    },
    {
      "cell_type": "code",
      "source": [
        "## Below is the procedure for setting up the data in the proper format\n",
        "\n",
        "## To create a Pandas df, first you create a dictionary\n",
        "## Dictionary keys will be the column name\n",
        "## Dictionary items will be the data points ...\n",
        "\n",
        "d = {'The News': [23, 34, 65, 76, 85, 34, 23, 56, 78, 92],\n",
        "      'The Big Bang Theory': [27, 54, 96, 52, 47, 86, 43, 19, 79, 57],\n",
        "      'The Simpsons': [56, 46, 25, 41, 76, 43, 27, 29, 46, 96]}\n",
        "      \n",
        "df = pd.DataFrame(data=d)\n",
        "\n",
        "# reshape the d dataframe suitable for statsmodels package\n",
        "# Columns now have the following order:\n",
        "    ## Index | Show Watched | Exam Score\n",
        "# or more generally\n",
        "    ## Index | Indp. Variable | Dept. Variable\n",
        "\n",
        "# New orginization of df allows packages to work properlly\n",
        "\n",
        "df_melt = pd.melt(df.reset_index(), id_vars=['index'], \n",
        "                  value_vars=['The News', \n",
        "                              'The Big Bang Theory', \n",
        "                              'The Simpsons'])\n",
        "# replace column names\n",
        "df_melt.columns = ['index', 'Show_Watched', 'Exam_Score']\n",
        "\n",
        "\n",
        "## I've made a summary function to display relevant statistics\n",
        "## Code can be viewed above\n",
        "\n",
        "summary = Summary(df)\n",
        "print('Raw DataFram\\n\\n',df,\n",
        "      '\\n\\nSummary Statistics\\n\\n',summary,\n",
        "      '\\n\\nMelted Dataframe\\n\\n',df_melt)"
      ],
      "metadata": {
        "colab": {
          "base_uri": "https://localhost:8080/"
        },
        "id": "s7FOKStlwIRG",
        "outputId": "315b6c59-dda3-404e-a6d2-0bdee2af4533"
      },
      "execution_count": null,
      "outputs": [
        {
          "output_type": "stream",
          "name": "stdout",
          "text": [
            "Raw DataFram\n",
            "\n",
            "    The News  The Big Bang Theory  The Simpsons\n",
            "0        23                   27            56\n",
            "1        34                   54            46\n",
            "2        65                   96            25\n",
            "3        76                   52            41\n",
            "4        85                   47            76\n",
            "5        34                   86            43\n",
            "6        23                   43            27\n",
            "7        56                   19            29\n",
            "8        78                   79            46\n",
            "9        92                   57            96 \n",
            "\n",
            "Summary Statistics\n",
            "\n",
            "                 Groups  Count  Sum  Average  Variance\n",
            "0             The News     10  566     56.6    624.44\n",
            "1  The Big Bang Theory     10  560     56.0    551.00\n",
            "2         The Simpsons     10  485     48.5    456.25 \n",
            "\n",
            "Melted Dataframe\n",
            "\n",
            "     index         Show_Watched  Exam_Score\n",
            "0       0             The News          23\n",
            "1       1             The News          34\n",
            "2       2             The News          65\n",
            "3       3             The News          76\n",
            "4       4             The News          85\n",
            "5       5             The News          34\n",
            "6       6             The News          23\n",
            "7       7             The News          56\n",
            "8       8             The News          78\n",
            "9       9             The News          92\n",
            "10      0  The Big Bang Theory          27\n",
            "11      1  The Big Bang Theory          54\n",
            "12      2  The Big Bang Theory          96\n",
            "13      3  The Big Bang Theory          52\n",
            "14      4  The Big Bang Theory          47\n",
            "15      5  The Big Bang Theory          86\n",
            "16      6  The Big Bang Theory          43\n",
            "17      7  The Big Bang Theory          19\n",
            "18      8  The Big Bang Theory          79\n",
            "19      9  The Big Bang Theory          57\n",
            "20      0         The Simpsons          56\n",
            "21      1         The Simpsons          46\n",
            "22      2         The Simpsons          25\n",
            "23      3         The Simpsons          41\n",
            "24      4         The Simpsons          76\n",
            "25      5         The Simpsons          43\n",
            "26      6         The Simpsons          27\n",
            "27      7         The Simpsons          29\n",
            "28      8         The Simpsons          46\n",
            "29      9         The Simpsons          96\n"
          ]
        }
      ]
    },
    {
      "cell_type": "code",
      "source": [
        "## The original code from which this was adopted from showed a boxplot and swarm plot\n",
        "## Both might be usefull to visualize the data and gain some intuition.\n",
        "\n",
        "ax = sns.boxplot(x='Show_Watched', y='Exam_Score', data=df_melt, color='#99c2a2')\n",
        "ax = sns.swarmplot(x='Show_Watched', y='Exam_Score', data=df_melt, color='#7d0013')\n",
        "plt.show()"
      ],
      "metadata": {
        "colab": {
          "base_uri": "https://localhost:8080/",
          "height": 280
        },
        "id": "9DIA-y5Jx4jx",
        "outputId": "02723edd-bf4f-4403-e5d6-c8b8b4d6b862"
      },
      "execution_count": null,
      "outputs": [
        {
          "output_type": "display_data",
          "data": {
            "text/plain": [
              "<Figure size 432x288 with 1 Axes>"
            ],
            "image/png": "[encoded data removed]"
          },
          "metadata": {
            "needs_background": "light"
          }
        }
      ]
    },
    {
      "cell_type": "code",
      "source": [
        "# stats f_oneway functions takes the groups as input and returns ANOVA F and p value\n",
        "\n",
        "fvalue, pvalue = stats.f_oneway(df['The News'], \n",
        "                                df['The Big Bang Theory'], \n",
        "                                df['The Simpsons'])\n",
        "\n",
        "## The arguments passed into the ols model was the most confusing for me\n",
        "## So I will try to make it clear what is beind done.\n",
        "## Generally the string passed into ols will have the form\n",
        "## 'dependent variable name ~ C(independent variable name)'\n",
        "\n",
        "## NOTE the amount of spaces in this string is critical\n",
        "## i.e the string should have the depnd. variable writen with NO SPACES\n",
        "## then,\n",
        "## space ~ space\n",
        "## then,\n",
        "## C(indp. variable) with NO SPACES\n",
        "## that is why I choose the variable names Exam_Score and Show_Watched.\n",
        "## If i used Exam Score and Show Watched instead, the string would not be correct\n",
        "## following this same format closely should ensure your other datasets work\n",
        "\n",
        "model = ols('Exam_Score ~ C(Show_Watched)', data=df_melt).fit()\n",
        "anova_table = sm.stats.anova_lm(model, typ=2)\n",
        "\n",
        "## Here I will show what the table looks like before renaming the indicies\n",
        "\n",
        "print(anova_table,'\\n\\n')\n",
        "\n",
        "## By default, Between groups is labeled C(indp. Variable)\n",
        "## and within groups is named Residual\n",
        "## Just so this table is consistent with excel i've renamed them\n",
        "## for future datasets you must change C(show_watched) to the correct indept.\n",
        "## variable of your dataset...\n",
        "\n",
        "anova_table = anova_table.rename(index={'C(Show_Watched)': 'Between Groups',\n",
        "                                        'Residual': 'Within Groups'})\n",
        "\n",
        "\n",
        "## Then we add the totals for MS and DF\n",
        "## This part of the code should not need to be changed \n",
        "\n",
        "MS = anova_table['sum_sq']/anova_table[\"df\"]\n",
        "anova_table.insert(2, \"mean_sq\", MS)\n",
        "\n",
        "anova_table.loc['Total'] = [np.sum(anova_table['sum_sq']),\n",
        "                       np.sum(anova_table[\"df\"]),\n",
        "                       'NaN','NaN','NaN']  # adding a row\n",
        "\n",
        "## Now the final table\n",
        "\n",
        "anova_table\n"
      ],
      "metadata": {
        "colab": {
          "base_uri": "https://localhost:8080/",
          "height": 227
        },
        "id": "5T3DnpfmyZaS",
        "outputId": "e68d9e0c-2cf1-4eed-c9d1-a34c40fde4bc"
      },
      "execution_count": null,
      "outputs": [
        {
          "output_type": "stream",
          "name": "stdout",
          "text": [
            "                  sum_sq    df         F    PR(>F)\n",
            "C(Show_Watched)    407.4   2.0  0.337068  0.716821\n",
            "Residual         16316.9  27.0       NaN       NaN \n",
            "\n",
            "\n"
          ]
        },
        {
          "output_type": "execute_result",
          "data": {
            "text/plain": [
              "                 sum_sq    df    mean_sq         F    PR(>F)\n",
              "Between Groups    407.4   2.0      203.7  0.337068  0.716821\n",
              "Within Groups   16316.9  27.0  604.32963       NaN       NaN\n",
              "Total           16724.3  29.0        NaN       NaN       NaN"
            ],
            "text/html": [
              "\n",
              "  <div id=\"df-e7f3f00e-6948-4dc5-b72a-0a41ba309eac\">\n",
              "    <div class=\"colab-df-container\">\n",
              "      <div>\n",
              "<style scoped>\n",
              "    .dataframe tbody tr th:only-of-type {\n",
              "        vertical-align: middle;\n",
              "    }\n",
              "\n",
              "    .dataframe tbody tr th {\n",
              "        vertical-align: top;\n",
              "    }\n",
              "\n",
              "    .dataframe thead th {\n",
              "        text-align: right;\n",
              "    }\n",
              "</style>\n",
              "<table border=\"1\" class=\"dataframe\">\n",
              "  <thead>\n",
              "    <tr style=\"text-align: right;\">\n",
              "      <th></th>\n",
              "      <th>sum_sq</th>\n",
              "      <th>df</th>\n",
              "      <th>mean_sq</th>\n",
              "      <th>F</th>\n",
              "      <th>PR(&gt;F)</th>\n",
              "    </tr>\n",
              "  </thead>\n",
              "  <tbody>\n",
              "    <tr>\n",
              "      <th>Between Groups</th>\n",
              "      <td>407.4</td>\n",
              "      <td>2.0</td>\n",
              "      <td>203.7</td>\n",
              "      <td>0.337068</td>\n",
              "      <td>0.716821</td>\n",
              "    </tr>\n",
              "    <tr>\n",
              "      <th>Within Groups</th>\n",
              "      <td>16316.9</td>\n",
              "      <td>27.0</td>\n",
              "      <td>604.32963</td>\n",
              "      <td>NaN</td>\n",
              "      <td>NaN</td>\n",
              "    </tr>\n",
              "    <tr>\n",
              "      <th>Total</th>\n",
              "      <td>16724.3</td>\n",
              "      <td>29.0</td>\n",
              "      <td>NaN</td>\n",
              "      <td>NaN</td>\n",
              "      <td>NaN</td>\n",
              "    </tr>\n",
              "  </tbody>\n",
              "</table>\n",
              "</div>\n",
              "      <button class=\"colab-df-convert\" onclick=\"convertToInteractive('df-e7f3f00e-6948-4dc5-b72a-0a41ba309eac')\"\n",
              "              title=\"Convert this dataframe to an interactive table.\"\n",
              "              style=\"display:none;\">\n",
              "        \n",
              "  <svg xmlns=\"http://www.w3.org/2000/svg\" height=\"24px\"viewBox=\"0 0 24 24\"\n",
              "       width=\"24px\">\n",
              "    <path d=\"M0 0h24v24H0V0z\" fill=\"none\"/>\n",
              "    <path d=\"M18.56 5.44l.94 2.06.94-2.06 2.06-.94-2.06-.94-.94-2.06-.94 2.06-2.06.94zm-11 1L8.5 8.5l.94-2.06 2.06-.94-2.06-.94L8.5 2.5l-.94 2.06-2.06.94zm10 10l.94 2.06.94-2.06 2.06-.94-2.06-.94-.94-2.06-.94 2.06-2.06.94z\"/><path d=\"M17.41 7.96l-1.37-1.37c-.4-.4-.92-.59-1.43-.59-.52 0-1.04.2-1.43.59L10.3 9.45l-7.72 7.72c-.78.78-.78 2.05 0 2.83L4 21.41c.39.39.9.59 1.41.59.51 0 1.02-.2 1.41-.59l7.78-7.78 2.81-2.81c.8-.78.8-2.07 0-2.86zM5.41 20L4 18.59l7.72-7.72 1.47 1.35L5.41 20z\"/>\n",
              "  </svg>\n",
              "      </button>\n",
              "      \n",
              "  <style>\n",
              "    .colab-df-container {\n",
              "      display:flex;\n",
              "      flex-wrap:wrap;\n",
              "      gap: 12px;\n",
              "    }\n",
              "\n",
              "    .colab-df-convert {\n",
              "      background-color: #E8F0FE;\n",
              "      border: none;\n",
              "      border-radius: 50%;\n",
              "      cursor: pointer;\n",
              "      display: none;\n",
              "      fill: #1967D2;\n",
              "      height: 32px;\n",
              "      padding: 0 0 0 0;\n",
              "      width: 32px;\n",
              "    }\n",
              "\n",
              "    .colab-df-convert:hover {\n",
              "      background-color: #E2EBFA;\n",
              "      box-shadow: 0px 1px 2px rgba(60, 64, 67, 0.3), 0px 1px 3px 1px rgba(60, 64, 67, 0.15);\n",
              "      fill: #174EA6;\n",
              "    }\n",
              "\n",
              "    [theme=dark] .colab-df-convert {\n",
              "      background-color: #3B4455;\n",
              "      fill: #D2E3FC;\n",
              "    }\n",
              "\n",
              "    [theme=dark] .colab-df-convert:hover {\n",
              "      background-color: #434B5C;\n",
              "      box-shadow: 0px 1px 3px 1px rgba(0, 0, 0, 0.15);\n",
              "      filter: drop-shadow(0px 1px 2px rgba(0, 0, 0, 0.3));\n",
              "      fill: #FFFFFF;\n",
              "    }\n",
              "  </style>\n",
              "\n",
              "      <script>\n",
              "        const buttonEl =\n",
              "          document.querySelector('#df-e7f3f00e-6948-4dc5-b72a-0a41ba309eac button.colab-df-convert');\n",
              "        buttonEl.style.display =\n",
              "          google.colab.kernel.accessAllowed ? 'block' : 'none';\n",
              "\n",
              "        async function convertToInteractive(key) {\n",
              "          const element = document.querySelector('#df-e7f3f00e-6948-4dc5-b72a-0a41ba309eac');\n",
              "          const dataTable =\n",
              "            await google.colab.kernel.invokeFunction('convertToInteractive',\n",
              "                                                     [key], {});\n",
              "          if (!dataTable) return;\n",
              "\n",
              "          const docLinkHtml = 'Like what you see? Visit the ' +\n",
              "            '<a target=\"_blank\" href=https://colab.research.google.com/notebooks/data_table.ipynb>data table notebook</a>'\n",
              "            + ' to learn more about interactive tables.';\n",
              "          element.innerHTML = '';\n",
              "          dataTable['output_type'] = 'display_data';\n",
              "          await google.colab.output.renderOutput(dataTable, element);\n",
              "          const docLink = document.createElement('div');\n",
              "          docLink.innerHTML = docLinkHtml;\n",
              "          element.appendChild(docLink);\n",
              "        }\n",
              "      </script>\n",
              "    </div>\n",
              "  </div>\n",
              "  "
            ]
          },
          "metadata": {},
          "execution_count": 13
        }
      ]
    },
    {
      "cell_type": "markdown",
      "source": [
        "Code Adapted from [here](https://www.pythonfordatascience.org/anova-python/)"
      ],
      "metadata": {
        "id": "Xv4RJfq0CSS4"
      }
    },
    {
      "cell_type": "code",
      "source": [
        "## Excersise 2\n",
        "\n",
        "d = {'5 mg':  [7, 8, 15, 11, 9, 10],\n",
        "     '10 mg': [12, 17, 13, 18, 19, 15],\n",
        "     '15 mg': [14, 18, 19, 17, 16, 18],\n",
        "     '20 mg': [19, 25, 22, 23, 18, 20]}\n",
        "\n",
        "df = pd.DataFrame(data=d)\n",
        "df_melt = pd.melt(df.reset_index(), id_vars=['index'], \n",
        "                  value_vars=['5 mg', '10 mg', '15 mg', '20 mg'])\n",
        "df_melt.columns = ['index', 'Drug_mg', 'patient_score']\n",
        "\n",
        "## Preform One-Way ANOVA below:\n"
      ],
      "metadata": {
        "id": "8TypRSW-CuDb"
      },
      "execution_count": null,
      "outputs": []
    },
    {
      "cell_type": "code",
      "source": [
        "## Excersise 3\n",
        "\n",
        "d = {'Hyper Growth':  [42, 96, 81, 95, 76],\n",
        "    'Max Factor':  [112, 96, 88, 135, 119],\n",
        "    'Top Notch':  [70, 17, 49, 24, 40],}\n",
        "\n",
        "df = pd.DataFrame(data=d)\n",
        "\n",
        "df_melt = pd.melt(df.reset_index(), id_vars=['index'], \n",
        "                  value_vars=['Hyper Growth', 'Max Factor', 'Top Notch'])\n",
        "\n",
        "df_melt.columns = ['index', 'fertilizer', 'effectiveness']\n",
        "\n",
        "## Preform One-Way ANOVA below:\n"
      ],
      "metadata": {
        "id": "HtAlg80d2LCN"
      },
      "execution_count": null,
      "outputs": []
    }
  ]
}
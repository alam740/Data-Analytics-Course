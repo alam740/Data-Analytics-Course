{
  "nbformat": 4,
  "nbformat_minor": 0,
  "metadata": {
    "colab": {
      "provenance": [],
      "collapsed_sections": [],
      "authorship_tag": "ABX9TyPTw3uGUq+afu/Th31TNkeQ",
      "include_colab_link": true
    },
    "kernelspec": {
      "name": "python3",
      "display_name": "Python 3"
    },
    "language_info": {
      "name": "python"
    }
  },
  "cells": [
    {
      "cell_type": "markdown",
      "metadata": {
        "id": "view-in-github",
        "colab_type": "text"
      },
      "source": [
        "<a href=\"https://colab.research.google.com/github/alam740/Data-Analytics-Course/blob/master/Lecture_8_3_Factors%2C_2_Levels_Example.ipynb\" target=\"_parent\"><img src=\"https://colab.research.google.com/assets/colab-badge.svg\" alt=\"Open In Colab\"/></a>"
      ]
    },
    {
      "cell_type": "markdown",
      "source": [
        "#Lectures 8: DOE by Taguchi and Fractional Factorial and ANOVA\n",
        "\n",
        "\n",
        "This notebook accompanies the ECE595 Data analytics course taught at Purdue in Fall 2022. These set of examples pertain to the materials of lecture 08.\n",
        "\n",
        "Written by Rohan Sheridan (sherida7@purdue.edu)"
      ],
      "metadata": {
        "id": "Srlkrj54x8oY"
      }
    },
    {
      "cell_type": "code",
      "source": [
        "import numpy as np\n",
        "import matplotlib.pyplot as plt\n",
        "import operator\n",
        "import collections\n",
        "from sklearn.linear_model import LinearRegression"
      ],
      "metadata": {
        "id": "Qrtaq1RwOtZO"
      },
      "execution_count": null,
      "outputs": []
    },
    {
      "cell_type": "code",
      "execution_count": null,
      "metadata": {
        "colab": {
          "base_uri": "https://localhost:8080/"
        },
        "id": "p4tpFATKORae",
        "outputId": "552a82e3-4d29-4c3e-bc95-83bd04554e30"
      },
      "outputs": [
        {
          "output_type": "stream",
          "name": "stdout",
          "text": [
            "[['-1.0' '-1.0' '1.0' '-1.0' '1.0' '1.0' '-1.0' '(1)' '67.0']\n",
            " ['1.0' '-1.0' '-1.0' '-1.0' '-1.0' '1.0' '1.0' 'a' '79.0']\n",
            " ['-1.0' '1.0' '-1.0' '-1.0' '1.0' '-1.0' '1.0' 'b' '61.0']\n",
            " ['1.0' '1.0' '1.0' '-1.0' '-1.0' '-1.0' '-1.0' 'ab' '75.0']\n",
            " ['-1.0' '-1.0' '1.0' '1.0' '-1.0' '-1.0' '1.0' 'c' '59.0']\n",
            " ['1.0' '-1.0' '-1.0' '1.0' '1.0' '-1.0' '-1.0' 'ac' '90.0']\n",
            " ['-1.0' '1.0' '-1.0' '1.0' '-1.0' '1.0' '-1.0' 'bc' '52.0']\n",
            " ['1.0' '1.0' '1.0' '1.0' '1.0' '1.0' '1.0' 'abc' '87.0']]\n",
            "\n",
            "\n",
            "\n",
            "Factor:  ['B' 'AC' 'ABC' 'C' 'AB' 'BC' 'A'] \n",
            "Effect:  [-5.   0.   0.5  1.5  1.5 10.  23. ] \n",
            "\n"
          ]
        }
      ],
      "source": [
        "## Set up the arrays for 3 factor, 2 level problem\n",
        "\n",
        "x =   np.asarray([[-1., -1.,  1., -1.,  1.,  1., -1.],\n",
        "                  [ 1., -1., -1., -1., -1.,  1.,  1.],\n",
        "                  [-1.,  1., -1., -1.,  1., -1.,  1.],\n",
        "                  [ 1.,  1.,  1., -1., -1., -1., -1.],\n",
        "                  [-1., -1.,  1.,  1., -1., -1.,  1.],\n",
        "                  [ 1., -1., -1.,  1.,  1., -1., -1.],\n",
        "                  [-1.,  1., -1.,  1., -1.,  1., -1.],\n",
        "                  [ 1.,  1.,  1.,  1.,  1.,  1.,  1.]])\n",
        "\n",
        "y = np.transpose(np.asarray(\n",
        "    [['(1)','a','b','ab','c','ac','bc','abc'],\n",
        "     [67., 79., 61., 75., 59., 90., 52., 87.]]))\n",
        "\n",
        " \n",
        "print(np.append(x,y,axis=1))\n",
        "\n",
        "\n",
        "## Remove row labels becuase it affects array data type\n",
        "## Strings in array force entire array to have string data type\n",
        "## Cannot multiply strings and floats...\n",
        "\n",
        "y = np.transpose(np.asarray(\n",
        "     [[67., 79., 61., 75., 59., 90., 52., 87.]]))\n",
        "\n",
        "\n",
        "vars = ['A','B','C','AB','BC','AC','ABC']\n",
        "\n",
        "effects = {}\n",
        "\n",
        "## initialize effects dictionary\n",
        "\n",
        "for var in vars:\n",
        "\n",
        "  effects[var] = 0\n",
        "\n",
        "print(\"\\n\")\n",
        "\n",
        "for i in range(len(vars)):\n",
        "\n",
        "  effect = np.dot(x[:,i],y)/4\n",
        "\n",
        "  effects[vars[i]] = effect[0]\n",
        "\n",
        "\n",
        "effects = np.asarray(sorted(effects.items(), \n",
        "                       key=operator.itemgetter(1)))\n",
        "\n",
        "\n",
        "label = effects[:,0]\n",
        "value = effects[:,1].astype('float')\n",
        "\n",
        "print(\"\\nFactor: \", label,\n",
        "      \"\\nEffect: \", value, '\\n')"
      ]
    },
    {
      "cell_type": "code",
      "source": [
        "\n",
        "i = np.arange(1,len(value)+1,1)\n",
        "\n",
        "\n",
        "fi = (i - 0.5)/(len(value))\n",
        "\n",
        "qi = 4.91*(fi**(0.14) - (1 - fi)**(0.14))\n",
        "\n",
        "plt.figure(1,(7,5))\n",
        "plt.scatter(value,qi,\n",
        "            c='w',edgecolors='black',s=100)\n",
        "\n",
        "\n",
        "reg = LinearRegression().fit(value[1:4].reshape(-1, 1), \n",
        "                             qi[1:4].reshape(-1, 1))\n",
        "\n",
        "yfit = reg.coef_*value + reg.intercept_\n",
        "\n",
        "plt.plot(value,yfit[0,:])\n",
        "\n",
        "offset = 0.1\n",
        "\n",
        "plt.ylim([min(qi) - offset,\n",
        "          max(qi) + offset])\n",
        "\n",
        "plt.show()\n",
        "\n",
        "plt.boxplot(value)\n",
        "plt.scatter(0*value,value,\n",
        "            c='w',edgecolors='black',s=35)\n",
        "print(\"\\n\\n\")\n",
        "\n",
        "plt.show()\n",
        "\n",
        "\n",
        "\n",
        "\n"
      ],
      "metadata": {
        "colab": {
          "base_uri": "https://localhost:8080/",
          "height": 619
        },
        "id": "0JU86Ehkojsp",
        "outputId": "2ef34752-e08a-4bbf-aa49-627c0b042483"
      },
      "execution_count": null,
      "outputs": [
        {
          "output_type": "display_data",
          "data": {
            "text/plain": [
              "<Figure size 504x360 with 1 Axes>"
            ],
            "image/png": "[encoded data removed]"
          },
          "metadata": {
            "needs_background": "light"
          }
        },
        {
          "output_type": "stream",
          "name": "stdout",
          "text": [
            "\n",
            "\n",
            "\n"
          ]
        },
        {
          "output_type": "display_data",
          "data": {
            "text/plain": [
              "<Figure size 432x288 with 1 Axes>"
            ],
            "image/png": "[encoded data removed]"
          },
          "metadata": {
            "needs_background": "light"
          }
        }
      ]
    }
  ]
}
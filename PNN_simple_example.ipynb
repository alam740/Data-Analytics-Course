{
  "cells": [
    {
      "cell_type": "markdown",
      "metadata": {
        "id": "view-in-github",
        "colab_type": "text"
      },
      "source": [
        "<a href=\"https://colab.research.google.com/github/alam740/Data-Analytics-Course/blob/master/PNN_simple_example.ipynb\" target=\"_parent\"><img src=\"https://colab.research.google.com/assets/colab-badge.svg\" alt=\"Open In Colab\"/></a>"
      ]
    },
    {
      "cell_type": "markdown",
      "metadata": {
        "id": "NX4do_F_CqHI"
      },
      "source": [
        "# Discovering a parsimonious neural network - melting temperature laws #\n",
        "\n",
        "<i>Saaketh Desai</i>, and <i>Alejandro Strachan</i>, School of Materials Engineering, Purdue University <br>\n",
        "\n",
        "This notebook describes the procedure to train a parsimonious neural network, i.e., a network designed to reproduce the training and testing datasets in the simplest, most interpretable manner possible. We use Keras to train neural networks and the DEAP package for genetic algorithms. The outline of this notebook is:\n",
        "\n",
        "1. Read datasets and split into training and testing sets\n",
        "2. Create a generic model\n",
        "3. Define the objective function for the genetic algorithm\n",
        "4. Set up the genetic algorithm and save the results"
      ]
    },
    {
      "cell_type": "code",
      "execution_count": null,
      "metadata": {
        "colab": {
          "base_uri": "https://localhost:8080/"
        },
        "id": "WCZ3LVSZPHtU",
        "outputId": "9cfb1747-9254-463c-d887-e7cedf0d2afb"
      },
      "outputs": [
        {
          "output_type": "stream",
          "name": "stdout",
          "text": [
            "Looking in indexes: https://pypi.org/simple, https://us-python.pkg.dev/colab-wheels/public/simple/\n",
            "Collecting deap\n",
            "  Downloading deap-1.3.3-cp37-cp37m-manylinux_2_5_x86_64.manylinux1_x86_64.manylinux_2_17_x86_64.manylinux2014_x86_64.whl (139 kB)\n",
            "\u001b[K     |████████████████████████████████| 139 kB 28.0 MB/s \n",
            "\u001b[?25hRequirement already satisfied: numpy in /usr/local/lib/python3.7/dist-packages (from deap) (1.21.6)\n",
            "Installing collected packages: deap\n",
            "Successfully installed deap-1.3.3\n"
          ]
        }
      ],
      "source": [
        "\n",
        "pip install deap"
      ]
    },
    {
      "cell_type": "code",
      "execution_count": null,
      "metadata": {
        "id": "8gQayibOCqHL"
      },
      "outputs": [],
      "source": [
        "import sys\n",
        "import os\n",
        "import random\n",
        "\n",
        "import numpy as np\n",
        "import pandas as pd\n",
        "from sklearn.model_selection import train_test_split\n",
        "\n",
        "from matplotlib import pyplot as plt\n",
        "\n",
        "import tensorflow as tf\n",
        "import keras\n",
        "from keras import backend as K\n",
        "from keras import initializers\n",
        "from keras.layers import Dense, Input, Activation, multiply\n",
        "from keras.models import Sequential, Model, load_model\n",
        "from keras.layers.merge import add, concatenate\n",
        "\n",
        "from deap import base, creator, tools, algorithms\n",
        "from multiprocessing import Pool"
      ]
    },
    {
      "cell_type": "markdown",
      "metadata": {
        "id": "N5An9BI-CqHM"
      },
      "source": [
        "## Step 1: Read training and testing data##\n",
        "We read in a CSV file containing the fundamental quantities such as bulk modulus, shear modulus, density etc., along with the experimental melting temperature. We then compute quantities such as effective sound speed ($v_m$) to compute effective temperatures $\\theta_0, \\theta_1, \\theta_2, \\theta_3$ and normalized inputs $\\theta_1', \\theta_2', \\theta_3'$. Finally, we use the `train_test split()` method from scikit-learn to split the data into training and testing sets"
      ]
    },
    {
      "cell_type": "code",
      "execution_count": null,
      "metadata": {
        "id": "upjUveK7CqHM"
      },
      "outputs": [],
      "source": [
        "# Melting temperature experiment data\n",
        "df = pd.read_csv(\"../data/Combined_data_v3.csv\")\n",
        "print (df.shape)"
      ]
    },
    {
      "cell_type": "code",
      "execution_count": null,
      "metadata": {
        "colab": {
          "base_uri": "https://localhost:8080/",
          "height": 283
        },
        "id": "9auBqSd3MK-V",
        "outputId": "fdd3ee1e-9e1d-4fa3-f233-df25bce4bcff"
      },
      "outputs": [
        {
          "output_type": "execute_result",
          "data": {
            "text/plain": [
              "[<matplotlib.lines.Line2D at 0x7fb7e725f690>]"
            ]
          },
          "metadata": {},
          "execution_count": 5
        },
        {
          "output_type": "display_data",
          "data": {
            "text/plain": [
              "<Figure size 432x288 with 1 Axes>"
            ],
            "image/png": "[encoded data removed]"
          },
          "metadata": {
            "needs_background": "light"
          }
        }
      ],
      "source": [
        "# 1/X+Z experiment data\n",
        "\n",
        "sample=218\n",
        "X=np.linspace(0.2,1,sample)\n",
        "Y=np.linspace(1,5,sample)\n",
        "Z= np.linspace(1,5,sample)\n",
        "O=1/X+Z+0.1*np.random.randn(sample)\n",
        "\n",
        "plt.plot(X,O)\n"
      ]
    },
    {
      "cell_type": "code",
      "execution_count": null,
      "metadata": {
        "colab": {
          "base_uri": "https://localhost:8080/",
          "height": 283
        },
        "id": "dNIkXdj4UCky",
        "outputId": "933d60e3-ef3e-4997-c68b-149cd43d1ab6"
      },
      "outputs": [
        {
          "output_type": "execute_result",
          "data": {
            "text/plain": [
              "[<matplotlib.lines.Line2D at 0x7f56bd346690>]"
            ]
          },
          "metadata": {},
          "execution_count": 3
        },
        {
          "output_type": "display_data",
          "data": {
            "text/plain": [
              "<Figure size 432x288 with 1 Axes>"
            ],
            "image/png": "[encoded data removed]"
          },
          "metadata": {
            "needs_background": "light"
          }
        }
      ],
      "source": [
        "# X^2+Y experiment data\n",
        "\n",
        "sample=218\n",
        "X=np.linspace(0.1,10,sample)\n",
        "Y=np.linspace(5,20,sample)\n",
        "Z= np.linspace(1,2,sample)\n",
        "# Z= np.random.randn(sample)\n",
        "O=100*X+Y+np.random.randn(sample)\n",
        "# print(Y.shape)\n",
        "plt.plot(X,O)\n"
      ]
    },
    {
      "cell_type": "code",
      "execution_count": null,
      "metadata": {
        "colab": {
          "base_uri": "https://localhost:8080/"
        },
        "id": "d2UDCSsFCqHN",
        "outputId": "6cbbf853-db77-4a81-e5ab-5de484aee6cf"
      },
      "outputs": [
        {
          "output_type": "stream",
          "name": "stdout",
          "text": [
            "(218, 4) (218, 1)\n",
            "(174, 4) (174, 1)\n",
            "(44, 4) (44, 1)\n"
          ]
        }
      ],
      "source": [
        "theta1=X.copy()\n",
        "theta2=Y.copy()\n",
        "theta3=Z.copy()\n",
        "\n",
        "theta1_prime = theta1\n",
        "theta2_prime = theta2\n",
        "theta3_prime = theta3\n",
        "\n",
        "ones = np.ones(len(theta1_prime))\n",
        "\n",
        "Tm_prime = O.copy()\n",
        "\n",
        "inputs = np.array([theta1_prime, theta2_prime, theta3_prime, ones], dtype='float')\n",
        "inputs = inputs.T\n",
        "outputs = np.array(Tm_prime).reshape(-1, 1)\n",
        "\n",
        "print (inputs.shape, outputs.shape)\n",
        "\n",
        "train_inputs, test_inputs, train_outputs, test_outputs = train_test_split(inputs, outputs, test_size=0.2, random_state=0)\n",
        "print (train_inputs.shape, train_outputs.shape)\n",
        "print (test_inputs.shape, test_outputs.shape)"
      ]
    },
    {
      "cell_type": "code",
      "execution_count": null,
      "metadata": {
        "colab": {
          "base_uri": "https://localhost:8080/",
          "height": 283
        },
        "id": "_XpIhXDkQLIu",
        "outputId": "bc5927ed-329f-445e-efd5-9df6310269d5"
      },
      "outputs": [
        {
          "output_type": "execute_result",
          "data": {
            "text/plain": [
              "<matplotlib.collections.PathCollection at 0x7fb7e6d5d5d0>"
            ]
          },
          "metadata": {},
          "execution_count": 7
        },
        {
          "output_type": "display_data",
          "data": {
            "text/plain": [
              "<Figure size 432x288 with 1 Axes>"
            ],
            "image/png": "[encoded data removed]"
          },
          "metadata": {
            "needs_background": "light"
          }
        }
      ],
      "source": [
        "plt.scatter(train_inputs[:,0],train_outputs)\n",
        "plt.scatter(test_inputs[:,0],test_outputs)"
      ]
    },
    {
      "cell_type": "code",
      "execution_count": null,
      "metadata": {
        "id": "iH2cT7fsCqHN"
      },
      "outputs": [],
      "source": [
        "act_dict = {0: 'linear', 1: 'squared', 2: 'inverse', 3: 'multiply', 4: 'tanh'}\n",
        "np.random.seed(300000)\n",
        "weight_dict = {0: 0, 1: 1, 2: np.random.uniform(-1,1,1)[0]}\n",
        "nact_terms = 4\n",
        "nweight_terms = 25 #13"
      ]
    },
    {
      "cell_type": "markdown",
      "metadata": {
        "id": "JWMYIJXqCqHO"
      },
      "source": [
        "## Step 2: Create a generic model\n",
        "\n",
        "We will now create a generic model whose activations and weights will be optimized to discover PNNs"
      ]
    },
    {
      "cell_type": "code",
      "execution_count": null,
      "metadata": {
        "id": "NIWk9HSjCqHO"
      },
      "outputs": [],
      "source": [
        "def squared_act(x):\n",
        "    return x*x\n",
        "\n",
        "def inverse_act(x):\n",
        "    return 1/x"
      ]
    },
    {
      "cell_type": "code",
      "execution_count": null,
      "metadata": {
        "id": "Cjp_T-5pCqHO"
      },
      "outputs": [],
      "source": [
        "def create_node(input1, input2, input3, name, trainable1, trainable2, trainable3, act, x, idx):\n",
        "    base = name\n",
        "    n1 = base + \"1\"\n",
        "    n2 = base + \"2\"\n",
        "    n3 = base + \"3\"\n",
        "    an1 = Dense(1, activation = 'linear', use_bias = False, name=n1, trainable=trainable1) (input1)\n",
        "    an2 = Dense(1, activation = 'linear', use_bias = False, name=n2, trainable=trainable2) (input2)\n",
        "    an3 = Dense(1, activation = 'linear', use_bias = False, name=n3, trainable=trainable3) (input3)\n",
        "    \n",
        "    node_list = [an1, an2, an3]\n",
        "    if (act == \"multiply\"):\n",
        "        non_zero_list = []\n",
        "        zero_list = []\n",
        "        for i, j in enumerate(node_list):\n",
        "            if (x[idx+i] == 1 or x[idx+i] == 2):\n",
        "                non_zero_list.append(j)\n",
        "            else:\n",
        "                zero_list.append(j)\n",
        "        if ( len(non_zero_list) == 0 ):\n",
        "            non_zero_list = node_list\n",
        "            an = multiply(non_zero_list)\n",
        "        if ( len(non_zero_list) == 1 ):\n",
        "            anx = non_zero_list[0]\n",
        "            an = add([anx, zero_list[0], zero_list[1]])\n",
        "        else:\n",
        "            an = multiply(non_zero_list)\n",
        "    else:\n",
        "        an = add(node_list)\n",
        "        if (act == \"squared\"):\n",
        "            an = Activation(squared_act) (an)\n",
        "        elif (act == \"inverse\"):\n",
        "            an = Activation(inverse_act) (an)\n",
        "        else:\n",
        "            an = Activation(act) (an)\n",
        "    return an"
      ]
    },
    {
      "cell_type": "code",
      "execution_count": null,
      "metadata": {
        "id": "yvcfFmmGCqHO"
      },
      "outputs": [],
      "source": [
        "def create_model(x):\n",
        "    #initializer = keras.initializers.RandomUniform(minval=-0.001, maxval=0.001, seed=0)\n",
        "    bias_initial = keras.initializers.Zeros()\n",
        "\n",
        "    trainable_list = []\n",
        "    for i in range(nweight_terms):\n",
        "        if (x[i+nact_terms] == 2):\n",
        "            trainable_list.append(True)\n",
        "        else:\n",
        "            trainable_list.append(False)\n",
        "\n",
        "    input1 = Input(shape=(1,))\n",
        "    input2 = Input(shape=(1,))\n",
        "    input3 = Input(shape=(1,))\n",
        "    input4 = Input(shape=(1,))\n",
        "\n",
        "    a1 = create_node(input1, input2, input3, \"a1\", trainable_list[0], trainable_list[1], \n",
        "                     trainable_list[2], act_dict[x[0]], x, 0+nact_terms)\n",
        "    a2 = create_node(input1, input2, input3, \"a2\", trainable_list[3], trainable_list[4], \n",
        "                     trainable_list[5], act_dict[x[1]], x, 3+nact_terms)\n",
        "    a3 = create_node(input1, input2, input3, \"a3\", trainable_list[6], trainable_list[7], \n",
        "                     trainable_list[8], act_dict[x[2]], x, 6+nact_terms)\n",
        "\n",
        "    an1 = Dense(1, activation = 'linear', use_bias = False, name='output1', trainable=trainable_list[9]) (a1)\n",
        "    an2 = Dense(1, activation = 'linear', use_bias = False, name='output2', trainable=trainable_list[10]) (a2)\n",
        "    an3 = Dense(1, activation = 'linear', use_bias = False, name='output3', trainable=trainable_list[11]) (a3)\n",
        "\n",
        "    an4 = Dense(1, activation = 'linear', use_bias = False, name='output4', trainable=trainable_list[12]) (input4)\n",
        "\n",
        "    act = act_dict[x[3]]\n",
        "    node_list = [an1, an2, an3, an4]\n",
        "    if (act == \"multiply\"):\n",
        "        non_zero_list = []\n",
        "        zero_list = []\n",
        "        for i, j in enumerate(node_list):\n",
        "            if (x[9+i] == 1 or x[9+i] == 2):\n",
        "                non_zero_list.append(j)\n",
        "            else:\n",
        "                zero_list.append(j)\n",
        "        if ( len(non_zero_list) == 0 ):\n",
        "            non_zero_list = node_list\n",
        "            an = multiply(non_zero_list)\n",
        "        elif ( len(non_zero_list) == 1 ):\n",
        "            anx = non_zero_list[0]\n",
        "            an = add([anx, zero_list[0], zero_list[1], zero_list[2]])\n",
        "        else:\n",
        "            an = multiply(non_zero_list)\n",
        "    else:\n",
        "        an = add(node_list)\n",
        "        if (act == \"squared\"):\n",
        "            an = Activation(squared_act) (an)\n",
        "        elif (act == \"inverse\"):\n",
        "            an = Activation(inverse_act) (an)\n",
        "        else:\n",
        "            an = Activation(act) (an)\n",
        "    output = an\n",
        "\n",
        "    model = Model(inputs=[input1, input2, input3, input4], outputs=[output])\n",
        "    # optimizer = tf.train.AdamOptimizer(learning_rate=1e-3)\n",
        "    optimizer=tf.optimizers.Adam(learning_rate=1e-3)\n",
        "    model.compile(loss='mse', optimizer=optimizer)\n",
        "    \n",
        "    layer_list = []\n",
        "    for i in range(len(model.layers)):\n",
        "        name = model.layers[i].name\n",
        "        if ( (\"activation\" in name) or (\"input\" in name) or (\"add\" in name) or (\"multiply\" in name) ):\n",
        "            continue\n",
        "        else:\n",
        "            layer_list.append(i)\n",
        "    \n",
        "    for i in range(len(layer_list)):\n",
        "        model.layers[layer_list[i]].set_weights( [ np.array( [[ weight_dict[x[nact_terms+i]] ]] ) ] )\n",
        "        #model.layers[layer_list[i]].set_weights( [ np.array( [[ weights_list[i] ]] ) ] )\n",
        "\n",
        "    #model.summary()\n",
        "\n",
        "    return model, trainable_list"
      ]
    },
    {
      "cell_type": "code",
      "execution_count": null,
      "metadata": {
        "id": "y5qvfDrWCqHP"
      },
      "outputs": [],
      "source": [
        "losses = []\n",
        "class PrintEpNum(keras.callbacks.Callback): # This is a function for the Epoch Counter\n",
        "    def on_epoch_end(self, epoch, logs):\n",
        "        sys.stdout.flush()\n",
        "        sys.stdout.write(\"Current Epoch: \" + str(epoch+1) + ' Loss: ' + str(logs.get('loss')) + '                     \\r')\n",
        "        losses.append(logs.get('loss'))\n",
        "\n",
        "def train(model, train_inputs, train_outputs, verbose=False):\n",
        "    mae_es= keras.callbacks.EarlyStopping(monitor='val_loss', patience=1000,\n",
        "                                          min_delta=1e-5, verbose=1, mode='auto', restore_best_weights=True)\n",
        "\n",
        "    terminate = keras.callbacks.TerminateOnNaN()\n",
        "\n",
        "    EPOCHS = 10000 # Number of EPOCHS\n",
        "    history = model.fit([train_inputs[:,0], train_inputs[:,1], train_inputs[:,2], train_inputs[:,3]], train_outputs[:,0],\n",
        "                        epochs=EPOCHS,\n",
        "                        shuffle=False, batch_size=len(train_inputs), verbose = False, callbacks=[mae_es, terminate],\n",
        "                        validation_split=0.2)\n",
        "    \n",
        "    if verbose:\n",
        "        plt.figure()\n",
        "        plt.xlabel('Epoch')\n",
        "        plt.ylabel('Mean Sq Error')\n",
        "        plt.plot(history.epoch, np.array(history.history['loss']),label='Training loss')\n",
        "        plt.legend()\n",
        "        plt.show()\n",
        "    return history"
      ]
    },
    {
      "cell_type": "code",
      "execution_count": null,
      "metadata": {
        "id": "uBBlZbpoCqHP"
      },
      "outputs": [],
      "source": [
        "def f3(w):\n",
        "    return w"
      ]
    },
    {
      "cell_type": "markdown",
      "metadata": {
        "id": "AtjnTlTcCqHP"
      },
      "source": [
        "## Step 3: Define the objective function for the genetic algorithm\n",
        "The objective function consists of three parts: \n",
        "1. The mean squared error of the model on the test set \n",
        "2. A penalty term for non-linear activation functions\n",
        "3. A penalty term for weights that are not fixed, simple values such as 0, 1"
      ]
    },
    {
      "cell_type": "code",
      "execution_count": null,
      "metadata": {
        "id": "C-TlxB6kCqHQ"
      },
      "outputs": [],
      "source": [
        "def objective_function(individual):\n",
        "    new_model, trainable = create_model(individual)\n",
        "    #print (\"Trainable: \", trainable)\n",
        "    valid_flag = True\n",
        "    stringlist = []\n",
        "    new_model.summary(print_fn=lambda x: stringlist.append(x))\n",
        "    for string in stringlist:\n",
        "        if (\"Trainable params\" in string):\n",
        "            ntrainable = int(string[-1])\n",
        "\n",
        "    if (ntrainable > 0):\n",
        "        train(new_model, train_inputs, train_outputs, verbose=False)\n",
        "\n",
        "    mse_train = new_model.evaluate([train_inputs[:, 0], train_inputs[:, 1], train_inputs[:, 2], train_inputs[:, 3]], \n",
        "                                   train_outputs, verbose=0)\n",
        "    mse_test = new_model.evaluate([test_inputs[:, 0], test_inputs[:, 1], test_inputs[:, 2], test_inputs[:, 3]], \n",
        "                                  test_outputs, verbose=0)\n",
        "\n",
        "    if (np.isnan(mse_train) or np.isnan(mse_test) or np.isinf(mse_train) or np.isinf(mse_test)):\n",
        "        valid_flag = False\n",
        "\n",
        "    weights = new_model.get_weights()\n",
        "    weight_list = []\n",
        "    for weight in weights:\n",
        "        weight_list.append(weight[0][0])\n",
        "    weight_list = np.array(weight_list)\n",
        "\n",
        "    #handle nan weights\n",
        "    if (np.isnan(weight_list).any()):\n",
        "        valid_flag = False\n",
        "\n",
        "    if (valid_flag):\n",
        "        print (weight_list)\n",
        "    else:\n",
        "        mse_test = 1e50\n",
        "\n",
        "    actfunc_term = [i**2 for i in individual[:nact_terms]]\n",
        "    weights = individual[nact_terms:]\n",
        "    weight_term = 0\n",
        "    for j in range(nweight_terms):\n",
        "        weight_term += f3(weights[j])\n",
        "        \n",
        "    mse_test_term = np.log10(mse_test)\n",
        "\n",
        "    p = 0.1\n",
        "    obj = mse_test_term + p*(np.sum(actfunc_term) + weight_term)\n",
        "    print (\"Individual: \", individual, flush=True)\n",
        "    print (\"Objective function: \", mse_test, np.sum(actfunc_term), weight_term, obj, flush=True)\n",
        "\n",
        "    keras.backend.clear_session()\n",
        "    tf.compat.v1.reset_default_graph()\n",
        "    # tf.reset_default_graph()\n",
        "    return (obj,)"
      ]
    },
    {
      "cell_type": "markdown",
      "metadata": {
        "id": "UbVxRz5VCqHQ"
      },
      "source": [
        "## Step 4: Set up the genetic algorithm and saving the results\n",
        "Each network is expressed as an individual of 17 genes, the genes representing the possible activations and weights. We thus define an individual to be a custom container, which is repeated to create a population. For details on this, please refer to the DEAP guide on setting up a genetic algorithm, which can be found [here](https://deap.readthedocs.io/en/master/)"
      ]
    },
    {
      "cell_type": "code",
      "execution_count": null,
      "metadata": {
        "id": "75KDWq90CqHQ"
      },
      "outputs": [],
      "source": [
        "################### DEAP #####################\n",
        "#create fitness class and individual class\n",
        "creator.create(\"FitnessMin\", base.Fitness, weights=(-1.0,))\n",
        "creator.create(\"Individual\", list, fitness=creator.FitnessMin)\n",
        "\n",
        "toolbox = base.Toolbox()\n",
        "#pool = Pool(1)\n",
        "#toolbox.register(\"attr_int\", random.randint, 0, 3)\n",
        "\n",
        "def custom_initRepeat(container, func, max1, max2, n):\n",
        "    func_list = []\n",
        "    for i in range(n):\n",
        "        if (i < nact_terms):\n",
        "            func_list.append(func(0, max1))\n",
        "        else:\n",
        "            func_list.append(func(0, max2))\n",
        "    return container(func_list[i] for i in range(n))\n",
        "\n",
        "#gen = initRepeat(list, random.randint, 3, 7, 4)\n",
        "toolbox.register(\"create_individual\", custom_initRepeat, creator.Individual, random.randint,\n",
        "                 max1=4, max2=2, n=nact_terms+nweight_terms)\n",
        "toolbox.register(\"population\", tools.initRepeat, list, toolbox.create_individual)\n",
        "\n",
        "def custom_mutation(individual, max1, max2, indpb):\n",
        "    size = len(individual)\n",
        "    for i in range(size):\n",
        "        if random.random() < indpb:\n",
        "            if (i < nact_terms):\n",
        "                individual[i] = random.randint(0, max1)\n",
        "            else:\n",
        "                individual[i] = random.randint(0, max2)\n",
        "    return individual,"
      ]
    },
    {
      "cell_type": "markdown",
      "metadata": {
        "id": "fsXXvH4ECqHQ"
      },
      "source": [
        "We use the two point crossover method for mating two individuals, and perform a random mutation using the custom mutation function. We then define a population size of 200 and define the statistics that we wish to log in the output of the code. The stats object decides which quantities are saved to the logbook"
      ]
    },
    {
      "cell_type": "code",
      "execution_count": null,
      "metadata": {
        "colab": {
          "base_uri": "https://localhost:8080/"
        },
        "id": "ZDb8RxdgCqHQ",
        "scrolled": false,
        "outputId": "8a7371e0-e1e4-49b2-a4a3-8932643791da"
      },
      "outputs": [
        {
          "output_type": "stream",
          "name": "stdout",
          "text": [
            "Restoring model weights from the end of the best epoch: 6755.\n",
            "Epoch 7755: early stopping\n",
            "[0.         0.         0.9779985  1.         0.         0.\n",
            " 0.         0.         0.         0.9779985  0.9464219  0.\n",
            " 0.22681406]\n",
            "Individual:  [0, 2, 0, 0, 0, 0, 2, 1, 0, 0, 0, 0, 0, 2, 2, 0, 2, 2, 2, 2, 0, 2, 0, 2, 0, 2, 0, 2, 0]\n",
            "Objective function:  0.014127352274954319 4 23 0.8500607747200613\n",
            "Restoring model weights from the end of the best epoch: 3619.\n",
            "Epoch 4619: early stopping\n",
            "[0.5233577 1.        0.7499864 0.7499864 2.425422  2.4628694 0.7499864\n",
            " 0.        0.6581383 0.7499864 0.574984  1.3189121]\n",
            "Individual:  [3, 0, 3, 4, 0, 1, 2, 2, 1, 1, 2, 0, 0, 2, 0, 2, 2, 2, 2, 2, 2, 1, 0, 2, 1, 0, 2, 1, 2]\n",
            "Objective function:  16.478336334228516 34 32 7.816913362862542\n"
          ]
        }
      ],
      "source": [
        "cxpb = 0.5\n",
        "mutpb = 0.3\n",
        "ngens = 3\n",
        "\n",
        "toolbox.register(\"mate\", tools.cxTwoPoint)\n",
        "#toolbox.register(\"mutate\", tools.mutUniformInt, low=0, up=3, indpb=mutpb)\n",
        "toolbox.register(\"mutate\", custom_mutation, max1=4, max2=2, indpb=mutpb)\n",
        "toolbox.register(\"select\", tools.selTournament, tournsize=5)\n",
        "toolbox.register(\"evaluate\", objective_function)\n",
        "\n",
        "random.seed(100000)\n",
        "population = toolbox.population(n=5)\n",
        "interesting_individual = [0, 2, 0, 0, 0, 0, 2, 1, 0, 0, 0, 0, 0, 2, 2, 0, 2]\n",
        "for i in range(len(interesting_individual)):\n",
        "    population[0][i] = interesting_individual[i]\n",
        "\n",
        "hof = tools.HallOfFame(1)\n",
        "stats = tools.Statistics(lambda ind: ind.fitness.values)\n",
        "stats.register(\"avg\", np.mean)\n",
        "stats.register(\"min\", np.min)\n",
        "stats.register(\"max\", np.max)\n",
        "pop, logbook = algorithms.eaSimple(population, toolbox, cxpb, mutpb, ngens, stats=stats, halloffame=hof, verbose=True)"
      ]
    }
  ],
  "metadata": {
    "accelerator": "GPU",
    "colab": {
      "collapsed_sections": [],
      "provenance": [],
      "include_colab_link": true
    },
    "kernelspec": {
      "display_name": "Python 3",
      "language": "python",
      "name": "python3"
    },
    "language_info": {
      "codemirror_mode": {
        "name": "ipython",
        "version": 3
      },
      "file_extension": ".py",
      "mimetype": "text/x-python",
      "name": "python",
      "nbconvert_exporter": "python",
      "pygments_lexer": "ipython3",
      "version": "3.7.7"
    }
  },
  "nbformat": 4,
  "nbformat_minor": 0
}
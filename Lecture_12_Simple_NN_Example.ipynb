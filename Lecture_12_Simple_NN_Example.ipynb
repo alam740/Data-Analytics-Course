{
  "nbformat": 4,
  "nbformat_minor": 0,
  "metadata": {
    "colab": {
      "provenance": [],
      "collapsed_sections": [],
      "authorship_tag": "ABX9TyNUDUENXI4kOH+e8YfYPDDP",
      "include_colab_link": true
    },
    "kernelspec": {
      "name": "python3",
      "display_name": "Python 3"
    },
    "language_info": {
      "name": "python"
    }
  },
  "cells": [
    {
      "cell_type": "markdown",
      "metadata": {
        "id": "view-in-github",
        "colab_type": "text"
      },
      "source": [
        "<a href=\"https://colab.research.google.com/github/alam740/Data-Analytics-Course/blob/master/Lecture_12_Simple_NN_Example.ipynb\" target=\"_parent\"><img src=\"https://colab.research.google.com/assets/colab-badge.svg\" alt=\"Open In Colab\"/></a>"
      ]
    },
    {
      "cell_type": "markdown",
      "source": [
        "# Basics of Machine Learning -- A physics-agnostic, curve-fitting approach \n",
        "\n",
        "\n",
        "This notebook accompanies the ECE595 Data analytics course taught at Purdue in Fall 2022. These set of examples pertain to the materials of lecture 12.\n",
        "\n",
        "Written by Rohan Sheridan (sherida7@purdue.edu)"
      ],
      "metadata": {
        "id": "3lZ2zVN3vvA-"
      }
    },
    {
      "cell_type": "code",
      "execution_count": null,
      "metadata": {
        "id": "_Tz0hKpwKbpB"
      },
      "outputs": [],
      "source": [
        "import torch\n",
        "import torch.nn as nn\n",
        "import numpy as np"
      ]
    },
    {
      "cell_type": "code",
      "source": [
        "n_input = 1\n",
        "n_hidden = 1\n",
        "n_out = 1\n",
        "batch_size = 10\n",
        "learning_rate = 0.025\n",
        "\n",
        "hrs =     [[0.5,0.75,1,1.25,1.5,1.75,1.75,2,2.25,2.5,\n",
        "          2.75,3,3.25,3.5,4,4.25,4.5,4.75,5,5.5]]\n",
        "\n",
        "passed =  [[0,0,0,0,0,0,1,0,1,0,\n",
        "           1,0,1,0,1,1,1,1,1,1]]\n",
        "\n",
        "x_data = torch.FloatTensor(hrs)\n",
        "y_data = torch.FloatTensor(passed)\n",
        "\n",
        "x_data = torch.transpose(x_data,0,1)\n",
        "y_data = torch.transpose(y_data,0,1)\n",
        "\n",
        "\n"
      ],
      "metadata": {
        "id": "EqQHWgg_N4i6"
      },
      "execution_count": null,
      "outputs": []
    },
    {
      "cell_type": "markdown",
      "source": [],
      "metadata": {
        "id": "ewTmc9ZgQVPN"
      }
    },
    {
      "cell_type": "code",
      "source": [
        "model = nn.Sequential(nn.Linear(n_input, n_hidden),\n",
        "                      nn.Sigmoid())\n",
        "print(model)\n",
        "\n",
        "\n",
        "loss_function = nn.MSELoss()\n",
        "optimizer = torch.optim.SGD(model.parameters(), lr=learning_rate)"
      ],
      "metadata": {
        "colab": {
          "base_uri": "https://localhost:8080/"
        },
        "id": "qQ_xjd6JPByk",
        "outputId": "67eee803-1a8d-419f-911b-8bd277e744a1"
      },
      "execution_count": null,
      "outputs": [
        {
          "output_type": "stream",
          "name": "stdout",
          "text": [
            "Sequential(\n",
            "  (0): Linear(in_features=1, out_features=1, bias=True)\n",
            "  (1): Sigmoid()\n",
            ")\n"
          ]
        }
      ]
    },
    {
      "cell_type": "code",
      "source": [
        "losses = []\n",
        "for epoch in range(5000):\n",
        "\n",
        "    pred_y = model(x_data)\n",
        "    loss = loss_function(pred_y, y_data)\n",
        "    losses.append(loss.item())\n",
        "\n",
        "    model.zero_grad()\n",
        "    loss.backward()\n",
        "\n",
        "    optimizer.step()"
      ],
      "metadata": {
        "id": "xaWNM4iTPsUz"
      },
      "execution_count": null,
      "outputs": []
    },
    {
      "cell_type": "code",
      "source": [
        "import matplotlib.pyplot as plt\n",
        "plt.plot(losses)\n",
        "plt.ylabel('loss')\n",
        "plt.xlabel('epoch')\n",
        "plt.title(\"Learning rate %f\"%(learning_rate))\n",
        "plt.show()\n"
      ],
      "metadata": {
        "colab": {
          "base_uri": "https://localhost:8080/",
          "height": 295
        },
        "id": "4saspLmuc0VG",
        "outputId": "490d993e-de42-43fc-8c3d-71d05cedda75"
      },
      "execution_count": null,
      "outputs": [
        {
          "output_type": "display_data",
          "data": {
            "text/plain": [
              "<Figure size 432x288 with 1 Axes>"
            ],
            "image/png": "[encoded data removed]"
          },
          "metadata": {
            "needs_background": "light"
          }
        }
      ]
    },
    {
      "cell_type": "code",
      "source": [
        "y = model(x_data).detach()\n",
        "\n",
        "plt.plot(x_data,y,linewidth=2)\n",
        "plt.scatter(x_data,y_data,c='r',s=50)\n",
        "plt.show()"
      ],
      "metadata": {
        "colab": {
          "base_uri": "https://localhost:8080/",
          "height": 265
        },
        "id": "arFdLzundPA1",
        "outputId": "b45701ad-eb5a-48ca-a4b3-a1a782aec0c2"
      },
      "execution_count": null,
      "outputs": [
        {
          "output_type": "display_data",
          "data": {
            "text/plain": [
              "<Figure size 432x288 with 1 Axes>"
            ],
            "image/png": "[encoded data removed]"
          },
          "metadata": {
            "needs_background": "light"
          }
        }
      ]
    },
    {
      "cell_type": "markdown",
      "source": [
        "Adopted from:\n",
        "\n",
        "https://towardsdatascience.com/build-a-simple-neural-network-using-pytorch-38c55158028d\n"
      ],
      "metadata": {
        "id": "LEzAiCTJ0Kxn"
      }
    },
    {
      "cell_type": "code",
      "source": [
        "n_input = 1\n",
        "n_hidden = 2\n",
        "n_out = 1\n",
        "batch_size = 10\n",
        "learning_rate = 0.025\n",
        "\n",
        "hrs =     [[0.5,0.75,1,1.25,1.5,1.75,1.75,2,2.25,2.5,\n",
        "          2.75,3,3.25,3.5,4,4.25,4.5,4.75,5,5.5,5.75,\n",
        "          6.0,6.25,6.5,6.75,7.0]]\n",
        "\n",
        "passed =  [[0,0,0,0,0,0,1,0,1,0,\n",
        "           1,0,1,0,1,1,1,1,1,1,0,\n",
        "           1,0,0,0,0]]\n",
        "\n",
        "\n",
        "x_data = torch.FloatTensor(hrs)\n",
        "y_data = torch.FloatTensor(passed)\n",
        "\n",
        "x_data = torch.transpose(x_data,0,1)\n",
        "y_data = torch.transpose(y_data,0,1)\n"
      ],
      "metadata": {
        "id": "5STwA1MEq34v"
      },
      "execution_count": null,
      "outputs": []
    },
    {
      "cell_type": "code",
      "source": [
        "model = nn.Sequential(nn.Linear(1, 2),\n",
        "                      nn.Sigmoid(),\n",
        "                      nn.Linear(2,1),\n",
        "                      )\n",
        "print(model)\n",
        "\n",
        "loss_function = nn.MSELoss()\n",
        "optimizer = torch.optim.SGD(model.parameters(), lr=learning_rate)\n",
        "\n"
      ],
      "metadata": {
        "colab": {
          "base_uri": "https://localhost:8080/"
        },
        "id": "DznzjqHsrPVc",
        "outputId": "4ac427e5-34cf-46c8-b687-2771fe992548"
      },
      "execution_count": null,
      "outputs": [
        {
          "output_type": "stream",
          "name": "stdout",
          "text": [
            "Sequential(\n",
            "  (0): Linear(in_features=1, out_features=2, bias=True)\n",
            "  (1): Sigmoid()\n",
            "  (2): Linear(in_features=2, out_features=1, bias=True)\n",
            ")\n"
          ]
        }
      ]
    },
    {
      "cell_type": "code",
      "source": [
        "losses = []\n",
        "\n",
        "print(x_data.shape)\n",
        "for epoch in range(2000):\n",
        "\n",
        "    for x,y in zip(x_data,y_data):\n",
        "      pred_y = model(x)\n",
        "      loss = loss_function(pred_y, y)\n",
        "      model.zero_grad()\n",
        "      loss.backward()\n",
        "\n",
        "      optimizer.step()\n",
        "\n",
        "    losses.append(loss.item())\n"
      ],
      "metadata": {
        "id": "1rOMQEOYrZJo",
        "colab": {
          "base_uri": "https://localhost:8080/"
        },
        "outputId": "69825880-106f-4595-a892-7807fc76278d"
      },
      "execution_count": null,
      "outputs": [
        {
          "output_type": "stream",
          "name": "stdout",
          "text": [
            "torch.Size([26, 1])\n"
          ]
        }
      ]
    },
    {
      "cell_type": "code",
      "source": [
        "plt.plot(losses)\n",
        "\n",
        "plt.ylabel('Rolling Avg loss')\n",
        "plt.xlabel('epoch')\n",
        "plt.title(\"Learning rate %f\"%(learning_rate))\n",
        "plt.show()"
      ],
      "metadata": {
        "colab": {
          "base_uri": "https://localhost:8080/",
          "height": 295
        },
        "id": "89_UVjtirq3Z",
        "outputId": "2172b31a-708e-42d9-e4c6-cda8d85e12a7"
      },
      "execution_count": null,
      "outputs": [
        {
          "output_type": "display_data",
          "data": {
            "text/plain": [
              "<Figure size 432x288 with 1 Axes>"
            ],
            "image/png": "[encoded data removed]"
          },
          "metadata": {
            "needs_background": "light"
          }
        }
      ]
    },
    {
      "cell_type": "code",
      "source": [
        "y = model(x_data).detach()\n",
        "plt.plot(x_data,y,linewidth=2)\n",
        "plt.scatter(x_data[:,0],y_data,c='r',s=50)\n",
        "plt.show()"
      ],
      "metadata": {
        "colab": {
          "base_uri": "https://localhost:8080/",
          "height": 265
        },
        "id": "DeVSk8nhrwPQ",
        "outputId": "39c1e8ca-617e-467d-bfae-82b545b02138"
      },
      "execution_count": null,
      "outputs": [
        {
          "output_type": "display_data",
          "data": {
            "text/plain": [
              "<Figure size 432x288 with 1 Axes>"
            ],
            "image/png": "[encoded data removed]"
          },
          "metadata": {
            "needs_background": "light"
          }
        }
      ]
    }
  ]
}
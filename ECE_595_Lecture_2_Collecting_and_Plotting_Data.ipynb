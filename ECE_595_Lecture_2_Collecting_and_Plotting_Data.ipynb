{
  "nbformat": 4,
  "nbformat_minor": 0,
  "metadata": {
    "colab": {
      "provenance": [],
      "collapsed_sections": [],
      "include_colab_link": true
    },
    "kernelspec": {
      "name": "python3",
      "display_name": "Python 3"
    },
    "language_info": {
      "name": "python"
    }
  },
  "cells": [
    {
      "cell_type": "markdown",
      "metadata": {
        "id": "view-in-github",
        "colab_type": "text"
      },
      "source": [
        "<a href=\"https://colab.research.google.com/github/alam740/Data-Analytics-Course/blob/master/ECE_595_Lecture_2_Collecting_and_Plotting_Data.ipynb\" target=\"_parent\"><img src=\"https://colab.research.google.com/assets/colab-badge.svg\" alt=\"Open In Colab\"/></a>"
      ]
    },
    {
      "cell_type": "markdown",
      "source": [
        "# ECE 565 - Data Analysis, Design of Experiments, and Machine Learning\n",
        "\n",
        "## Lecture 2 - Collecting and Plotting Data\n"
      ],
      "metadata": {
        "id": "2PFQ0Nwd0QHx"
      }
    },
    {
      "cell_type": "markdown",
      "source": [
        "*This notebook accompanies the ECE595 Data analytics course taught \n",
        "at Purdue in Fall 2022. These set of examples pertain to the materials of lecture 02.*\n",
        "\n",
        "*Written by Rohan Sheridan (sherida7@purdue.edu)*\n",
        "\n",
        "*Please reach out to me with any quesitons and concerns regarding this notebook*"
      ],
      "metadata": {
        "id": "d2OrERsB7Fmr"
      }
    },
    {
      "cell_type": "code",
      "source": [
        "import numpy as np\n",
        "import matplotlib.pyplot as plt\n",
        "from scipy.stats import bootstrap \n",
        "from sklearn.utils import resample"
      ],
      "metadata": {
        "id": "Uu2OiJEk0WIp"
      },
      "execution_count": null,
      "outputs": []
    },
    {
      "cell_type": "code",
      "execution_count": null,
      "metadata": {
        "colab": {
          "base_uri": "https://localhost:8080/"
        },
        "id": "1KRo9POJ0Fvs",
        "outputId": "29ebd9e7-5cb0-4938-898a-d26053aa1cfc"
      },
      "outputs": [
        {
          "output_type": "stream",
          "name": "stdout",
          "text": [
            "Data:  [[ 7.51  9.08  4.91  7.11 10.93 10.96  3.26  4.07  2.51  6.41]] \n",
            "\n",
            "Mean:  6.68 \n",
            "\n",
            "Standard Deviation:  3.02 \n",
            "\n",
            "Population Standard Deviation:  2.87\n"
          ]
        }
      ],
      "source": [
        "## These are paramaters to make a random data set\n",
        "np.random.seed(3)\n",
        "mult = 10\n",
        "offset = -2\n",
        "size = 10\n",
        "## you can change these and change the data and see how it affects the stats\n",
        "\n",
        "Data = np.round(np.random.rand(1,size)*mult - offset,2)\n",
        "\n",
        "m = np.mean(Data)\n",
        "sd = np.std(Data,ddof = 1)\n",
        "sdp = np.std(Data,ddof = 0)\n",
        "\n",
        "\n",
        "print(\"Data: \",Data,\n",
        "      \"\\n\\nMean: \",np.round(m,2),\n",
        "      \"\\n\\nStandard Deviation: \",np.round(sd,2),\n",
        "      \"\\n\\nPopulation Standard Deviation: \",np.round(sdp,2))"
      ]
    },
    {
      "cell_type": "markdown",
      "source": [
        "# Bootstraping"
      ],
      "metadata": {
        "id": "ZsGpAr6v52mM"
      }
    },
    {
      "cell_type": "code",
      "source": [
        "'''\n",
        "Given a data sample from an underlying population or distribution\n",
        "Bootstraping can give information about the distributions' statistics\n",
        "'''\n",
        "\n",
        "Data2 = [0.2, -0.1, 0.5, 0.3, -0.6]\n",
        "\n",
        "'''\n",
        "Here we set up empty lists so that we can create a collection of\n",
        "synthetic samples\n",
        "\n",
        "'''\n",
        "\n",
        "sSamples = []\n",
        "sMean = []\n",
        "sStd = []\n",
        "n = 100\n",
        "'''\n",
        "Next, we itterate through a for loop n times\n",
        "Each loop we create a synthetic sample whose randomness is governed\n",
        "by the random state: i\n",
        "\n",
        "We can choose to use stratification or not\n",
        "Using stratified sampling assumes there are subpopulations in\n",
        "the larger population.\n",
        "Sometimes this can help to achive more accurate statistics on\n",
        "the entire poulation\n",
        "'''\n",
        "\n",
        "for i in range(n):\n",
        "  rand = i\n",
        "  temp = resample(Data2, random_state=i, \n",
        "                  n_samples=len(Data2),stratify=Data2)\n",
        "  \n",
        "  # Save the synthetic sample as a temporary variable\n",
        "  # Then append the sample to our collection\n",
        "  # Additionally, take the mean and std of the sample\n",
        "\n",
        "  sSamples.append(temp)\n",
        "  sMean.append(np.mean(temp))\n",
        "  sStd.append(np.std(temp))\n",
        "\n",
        "# Take the mean of the statstics we collected from\n",
        "# the synthetic samples\n",
        "# These values below can be used as our bootstrap mean and std\n",
        "bMean = np.mean(sMean)\n",
        "bStd = np.mean(sStd)\n",
        "\n",
        "'''\n",
        "Alternatively, we can resize our sample to be a column vector\n",
        "or a row vector using numpy\n",
        "Then, we can used scipy's bootstrap method to get a mean or std\n",
        "'''\n",
        "  \n",
        "D2 = np.resize(np.array(Data2),(1,len(Data2)))\n",
        "\n",
        "res1 = bootstrap(D2,np.mean,n_resamples=100,\n",
        "                 confidence_level=0.9, random_state=0)\n",
        "\n",
        "res2 = bootstrap(D2,np.std,n_resamples=100,\n",
        "                 confidence_level=0.9,random_state=0)\n"
      ],
      "metadata": {
        "id": "Z8VqszbF3PH1"
      },
      "execution_count": null,
      "outputs": []
    },
    {
      "cell_type": "code",
      "source": [
        "'''\n",
        "Scipy gives us confidence intervals for which a given statistic lies \n",
        "within.\n",
        "i.e. , res1 gives us an interval, with 90% confidence, for which \n",
        "a mean for our population lies based on the bootstrapped samples.\n",
        "res2 returns the same but for the standard deviation\n",
        "\n",
        "The mean and std generated from the synthetic samples created\n",
        "using sklearn return a singular value. This value is consistent\n",
        "with the invervals scipy returns, with the singular value lying\n",
        "in the middle of the confidence interval for the corresponding statstic\n",
        "'''\n",
        "\n",
        "print(\"Bootsrapped Mean Confidence Interval: \",\n",
        "      [res1.confidence_interval[0],res1.confidence_interval[1]])\n",
        "print(\"\\nBootstraped Mean: \",bMean)\n",
        "print(\"\\nBootsrapped STD Confidence Interval: \",\n",
        "      [res2.confidence_interval[0],res2.confidence_interval[1]])\n",
        "print(\"\\nBootstraped STD: \",bStd)\n"
      ],
      "metadata": {
        "colab": {
          "base_uri": "https://localhost:8080/"
        },
        "id": "ZtRrEUm-p8hV",
        "outputId": "68ab7c98-9264-4db5-f81d-7a94f27a722a"
      },
      "execution_count": null,
      "outputs": [
        {
          "output_type": "stream",
          "name": "stdout",
          "text": [
            "Bootsrapped Mean Confidence Interval:  [-0.37357828693677353, 0.3]\n",
            "\n",
            "Bootstraped Mean:  0.06\n",
            "\n",
            "Bootsrapped STD Confidence Interval:  [0.17435595774162696, 0.5297528449385098]\n",
            "\n",
            "Bootstraped STD:  0.3826225293941799\n"
          ]
        }
      ]
    },
    {
      "cell_type": "markdown",
      "source": [
        "# Boxplot"
      ],
      "metadata": {
        "id": "uuH8asnmPsZk"
      }
    },
    {
      "cell_type": "code",
      "source": [
        "## Here is a simple boxplot\n",
        "## Plotted using the given data array\n",
        "\n",
        "Data3 = np.array([1,5,6,5,10,12,9,9,8,21,3,15,25])\n",
        "\n",
        "fig1, ax1 = plt.subplots()\n",
        "ax1.set_title('Basic Plot')\n",
        "ax1.boxplot(Data3)\n",
        "ax1.plot(0*Data3 ,Data3,\"ko\")\n",
        "\n",
        "plt.show()"
      ],
      "metadata": {
        "colab": {
          "base_uri": "https://localhost:8080/",
          "height": 281
        },
        "id": "N__b22Jq5P-z",
        "outputId": "f3bdb7e3-69fc-4369-8fec-8293e1f5b929"
      },
      "execution_count": null,
      "outputs": [
        {
          "output_type": "display_data",
          "data": {
            "text/plain": [
              "<Figure size 432x288 with 1 Axes>"
            ],
            "image/png": "[encoded data removed]"
          },
          "metadata": {
            "needs_background": "light"
          }
        }
      ]
    },
    {
      "cell_type": "markdown",
      "source": [
        "# Stem and Leaf Plot"
      ],
      "metadata": {
        "id": "UsBONOMXAjfH"
      }
    },
    {
      "cell_type": "code",
      "source": [
        "# Below is a method for creating stem and leaf plots\n",
        "# I am using the modulo function of python \n",
        "# There are also standalone libraries for stem plots\n",
        "\n",
        "Data4 = np.array([44, 46, 47, 49, 63, 64, 66, 68, 68, \n",
        "                  72, 72, 75, 76, 81, 84, 88, 103])\n",
        "\n",
        "print(\"Data: \",Data4,\"\\n\")\n",
        "\n",
        "stemLeaf = {}\n",
        "\n",
        "for i in Data4:\n",
        "\n",
        "  key = int(i/10)\n",
        "  mod = i%10\n",
        "\n",
        "  if key not in stemLeaf.keys():\n",
        "    stemLeaf[key] = []\n",
        "\n",
        "  stemLeaf[key].append(mod)\n",
        "\n",
        "print('Stem | Leaf plot')\n",
        "for k in stemLeaf:\n",
        "\n",
        "  print(k,\"|\",stemLeaf[k])"
      ],
      "metadata": {
        "colab": {
          "base_uri": "https://localhost:8080/"
        },
        "id": "ZXlSEzAQ_N7E",
        "outputId": "20c4af20-6fe8-4695-a929-b38b14ee6746"
      },
      "execution_count": null,
      "outputs": [
        {
          "output_type": "stream",
          "name": "stdout",
          "text": [
            "Data:  [ 44  46  47  49  63  64  66  68  68  72  72  75  76  81  84  88 103] \n",
            "\n",
            "Stem | Leaf plot\n",
            "4 | [4, 6, 7, 9]\n",
            "6 | [3, 4, 6, 8, 8]\n",
            "7 | [2, 2, 5, 6]\n",
            "8 | [1, 4, 8]\n",
            "10 | [3]\n"
          ]
        }
      ]
    },
    {
      "cell_type": "markdown",
      "source": [
        "# Kaplan-Meier Formula \n"
      ],
      "metadata": {
        "id": "d9QDBoa8BGE2"
      }
    },
    {
      "cell_type": "code",
      "source": [
        "Data5 = np.array([4,3,2,1,0]) # Number of samples surviving after time ti\n",
        "\n",
        "F = []\n",
        "i = 0\n",
        "\n",
        "for nsi in Data5:\n",
        "\n",
        "  PIi = (nsi + 1)/(nsi + 2)\n",
        "\n",
        "  if len(F) == 0:\n",
        "    F.append(PIi)\n",
        "  else:\n",
        "    F.append(PIi*F[len(F) - 1])\n",
        "\n",
        "F = 1 - np.array(F)\n",
        "\n",
        "print(F)"
      ],
      "metadata": {
        "colab": {
          "base_uri": "https://localhost:8080/"
        },
        "id": "x9ThW3ysCjvr",
        "outputId": "4e81c476-62f3-476d-ce34-90cf09d5be7e"
      },
      "execution_count": null,
      "outputs": [
        {
          "output_type": "stream",
          "name": "stdout",
          "text": [
            "[0.16666667 0.33333333 0.5        0.66666667 0.83333333]\n"
          ]
        }
      ]
    }
  ]
}
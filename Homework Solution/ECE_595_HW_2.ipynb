{
  "nbformat": 4,
  "nbformat_minor": 0,
  "metadata": {
    "colab": {
      "provenance": []
    },
    "kernelspec": {
      "name": "python3",
      "display_name": "Python 3"
    },
    "language_info": {
      "name": "python"
    }
  },
  "cells": [
    {
      "cell_type": "markdown",
      "source": [
        "#PRINCIPLE OF DATA ANALYSIS AND DESIGN OF EXPERIMENTS\n",
        "\n",
        "##**Homework 2**: Model Selection and Goodness of Fit Problem Set\n",
        "\n",
        "###Muhammad A. Alam\n",
        "###Purdue University"
      ],
      "metadata": {
        "id": "nBRISjpnvE8_"
      }
    },
    {
      "cell_type": "code",
      "source": [
        "from google.colab import drive\n",
        "import pandas as pd\n",
        "import os\n",
        "import numpy as np\n",
        "import matplotlib.pyplot as plt\n",
        "from scipy.optimize import curve_fit\n",
        "import numpy as np\n",
        "from sklearn.linear_model import LinearRegression\n",
        "import statsmodels.api as sm\n",
        "from scipy.stats import kstest\n",
        "from scipy.stats import norm\n",
        "import scipy.stats as ss\n",
        "\n",
        "\n",
        "drive.mount('/content/gdrive', force_remount=True)\n",
        "os.chdir(\"/content/gdrive/MyDrive/ECE595_/\")\n",
        "\n",
        "data = np.loadtxt(\"HW2.csv\",dtype=float, skiprows=1,delimiter=',')\n",
        "\n",
        "Temp,R = (data[:,0],data[:,1])\n",
        "788\n",
        "print('Temp: ',Temp,\"\\n\\n\",\"Resistance: \",R)\n",
        "\n",
        "\n"
      ],
      "metadata": {
        "colab": {
          "base_uri": "https://localhost:8080/"
        },
        "id": "XBnsHYutvdTw",
        "outputId": "9a9fd988-89da-48e4-a17e-c10b00ad3c0f"
      },
      "execution_count": null,
      "outputs": [
        {
          "output_type": "stream",
          "name": "stdout",
          "text": [
            "Mounted at /content/gdrive\n",
            "Temp:  [150. 160. 170. 180. 190. 200. 210. 220. 230. 240. 250. 260. 270. 280.\n",
            " 290. 300. 310. 320. 330. 340. 350.] \n",
            "\n",
            " Resistance:  [19.5 18.4 20.2 20.1 20.9 20.8 21.2 21.8 21.9 23.6 23.2 23.9 23.2 24.1\n",
            " 24.2 26.3 25.5 26.1 26.3 27.1 28. ]\n"
          ]
        }
      ]
    },
    {
      "cell_type": "markdown",
      "source": [
        "#1.) Comparing the “goodness-of-fit” between two types of fitting. Consider the temperature-dependent resistance data included in HW2.csv"
      ],
      "metadata": {
        "id": "U56R_qYFEktv"
      }
    },
    {
      "cell_type": "markdown",
      "source": [
        "We will fit two models: 𝑦 = a + b𝑥 and 𝑦 = c + d𝑥 + f𝑥^2 to determine the model that fits the data better."
      ],
      "metadata": {
        "id": "DDVWzHaaEzvO"
      }
    },
    {
      "cell_type": "markdown",
      "source": [
        "a.) what is the value of b"
      ],
      "metadata": {
        "id": "MDm_wXGaIXxt"
      }
    },
    {
      "cell_type": "code",
      "source": [
        "def func1(x, a, b):\n",
        "  return a + b*x\n",
        "\n",
        "\n",
        "def func2(x, c, d, f):\n",
        "  return c + d*x + f*x**2\n",
        "\n"
      ],
      "metadata": {
        "id": "i2j7cLZuFASE"
      },
      "execution_count": null,
      "outputs": []
    },
    {
      "cell_type": "code",
      "source": [
        "\n",
        "# creating a list of column names\n",
        "column_values = ['Temp', 'R']\n",
        "\n",
        "# creating the dataframe\n",
        "df1 = pd.DataFrame(data = data,\n",
        "                  columns = column_values)\n",
        "\n",
        "# displaying the dataframe\n",
        "print(df1)\n",
        "\n",
        "\n"
      ],
      "metadata": {
        "colab": {
          "base_uri": "https://localhost:8080/"
        },
        "id": "I1s7A1OFJ0Hr",
        "outputId": "5e38b1aa-1508-4323-f6db-ee6db6c110fa"
      },
      "execution_count": null,
      "outputs": [
        {
          "output_type": "stream",
          "name": "stdout",
          "text": [
            "     Temp     R\n",
            "0   150.0  19.5\n",
            "1   160.0  18.4\n",
            "2   170.0  20.2\n",
            "3   180.0  20.1\n",
            "4   190.0  20.9\n",
            "5   200.0  20.8\n",
            "6   210.0  21.2\n",
            "7   220.0  21.8\n",
            "8   230.0  21.9\n",
            "9   240.0  23.6\n",
            "10  250.0  23.2\n",
            "11  260.0  23.9\n",
            "12  270.0  23.2\n",
            "13  280.0  24.1\n",
            "14  290.0  24.2\n",
            "15  300.0  26.3\n",
            "16  310.0  25.5\n",
            "17  320.0  26.1\n",
            "18  330.0  26.3\n",
            "19  340.0  27.1\n",
            "20  350.0  28.0\n"
          ]
        }
      ]
    },
    {
      "cell_type": "code",
      "source": [
        "x=df1[['Temp']]\n",
        "y=df1['R']"
      ],
      "metadata": {
        "id": "TH3XLlJ3Ssx_"
      },
      "execution_count": null,
      "outputs": []
    },
    {
      "cell_type": "code",
      "source": [
        "x=sm.add_constant(x)         # Linear model (y= a+bx)\n",
        "model1=sm.OLS(y,x).fit()\n",
        "model1.summary()"
      ],
      "metadata": {
        "id": "qL3ytASj_2-f",
        "outputId": "06c4ca32-fc88-4965-b299-f4fce2231e32",
        "colab": {
          "base_uri": "https://localhost:8080/",
          "height": 533
        }
      },
      "execution_count": null,
      "outputs": [
        {
          "output_type": "stream",
          "name": "stderr",
          "text": [
            "/usr/local/lib/python3.7/dist-packages/statsmodels/tsa/tsatools.py:142: FutureWarning: In a future version of pandas all arguments of concat except for the argument 'objs' will be keyword-only\n",
            "  x = pd.concat(x[::order], 1)\n"
          ]
        },
        {
          "output_type": "execute_result",
          "data": {
            "text/plain": [
              "<class 'statsmodels.iolib.summary.Summary'>\n",
              "\"\"\"\n",
              "                            OLS Regression Results                            \n",
              "==============================================================================\n",
              "Dep. Variable:                      R   R-squared:                       0.964\n",
              "Model:                            OLS   Adj. R-squared:                  0.962\n",
              "Method:                 Least Squares   F-statistic:                     505.8\n",
              "Date:                Wed, 12 Oct 2022   Prob (F-statistic):           3.73e-15\n",
              "Time:                        23:28:45   Log-Likelihood:                -15.429\n",
              "No. Observations:                  21   AIC:                             34.86\n",
              "Df Residuals:                      19   BIC:                             36.95\n",
              "Df Model:                           1                                         \n",
              "Covariance Type:            nonrobust                                         \n",
              "==============================================================================\n",
              "                 coef    std err          t      P>|t|      [0.025      0.975]\n",
              "------------------------------------------------------------------------------\n",
              "const         12.4104      0.492     25.243      0.000      11.381      13.439\n",
              "Temp           0.0430      0.002     22.491      0.000       0.039       0.047\n",
              "==============================================================================\n",
              "Omnibus:                        0.325   Durbin-Watson:                   2.578\n",
              "Prob(Omnibus):                  0.850   Jarque-Bera (JB):                0.484\n",
              "Skew:                           0.194   Prob(JB):                        0.785\n",
              "Kurtosis:                       2.366   Cond. No.                     1.09e+03\n",
              "==============================================================================\n",
              "\n",
              "Notes:\n",
              "[1] Standard Errors assume that the covariance matrix of the errors is correctly specified.\n",
              "[2] The condition number is large, 1.09e+03. This might indicate that there are\n",
              "strong multicollinearity or other numerical problems.\n",
              "\"\"\""
            ],
            "text/html": [
              "<table class=\"simpletable\">\n",
              "<caption>OLS Regression Results</caption>\n",
              "<tr>\n",
              "  <th>Dep. Variable:</th>            <td>R</td>        <th>  R-squared:         </th> <td>   0.964</td>\n",
              "</tr>\n",
              "<tr>\n",
              "  <th>Model:</th>                   <td>OLS</td>       <th>  Adj. R-squared:    </th> <td>   0.962</td>\n",
              "</tr>\n",
              "<tr>\n",
              "  <th>Method:</th>             <td>Least Squares</td>  <th>  F-statistic:       </th> <td>   505.8</td>\n",
              "</tr>\n",
              "<tr>\n",
              "  <th>Date:</th>             <td>Wed, 12 Oct 2022</td> <th>  Prob (F-statistic):</th> <td>3.73e-15</td>\n",
              "</tr>\n",
              "<tr>\n",
              "  <th>Time:</th>                 <td>23:28:45</td>     <th>  Log-Likelihood:    </th> <td> -15.429</td>\n",
              "</tr>\n",
              "<tr>\n",
              "  <th>No. Observations:</th>      <td>    21</td>      <th>  AIC:               </th> <td>   34.86</td>\n",
              "</tr>\n",
              "<tr>\n",
              "  <th>Df Residuals:</th>          <td>    19</td>      <th>  BIC:               </th> <td>   36.95</td>\n",
              "</tr>\n",
              "<tr>\n",
              "  <th>Df Model:</th>              <td>     1</td>      <th>                     </th>     <td> </td>   \n",
              "</tr>\n",
              "<tr>\n",
              "  <th>Covariance Type:</th>      <td>nonrobust</td>    <th>                     </th>     <td> </td>   \n",
              "</tr>\n",
              "</table>\n",
              "<table class=\"simpletable\">\n",
              "<tr>\n",
              "    <td></td>       <th>coef</th>     <th>std err</th>      <th>t</th>      <th>P>|t|</th>  <th>[0.025</th>    <th>0.975]</th>  \n",
              "</tr>\n",
              "<tr>\n",
              "  <th>const</th> <td>   12.4104</td> <td>    0.492</td> <td>   25.243</td> <td> 0.000</td> <td>   11.381</td> <td>   13.439</td>\n",
              "</tr>\n",
              "<tr>\n",
              "  <th>Temp</th>  <td>    0.0430</td> <td>    0.002</td> <td>   22.491</td> <td> 0.000</td> <td>    0.039</td> <td>    0.047</td>\n",
              "</tr>\n",
              "</table>\n",
              "<table class=\"simpletable\">\n",
              "<tr>\n",
              "  <th>Omnibus:</th>       <td> 0.325</td> <th>  Durbin-Watson:     </th> <td>   2.578</td>\n",
              "</tr>\n",
              "<tr>\n",
              "  <th>Prob(Omnibus):</th> <td> 0.850</td> <th>  Jarque-Bera (JB):  </th> <td>   0.484</td>\n",
              "</tr>\n",
              "<tr>\n",
              "  <th>Skew:</th>          <td> 0.194</td> <th>  Prob(JB):          </th> <td>   0.785</td>\n",
              "</tr>\n",
              "<tr>\n",
              "  <th>Kurtosis:</th>      <td> 2.366</td> <th>  Cond. No.          </th> <td>1.09e+03</td>\n",
              "</tr>\n",
              "</table><br/><br/>Notes:<br/>[1] Standard Errors assume that the covariance matrix of the errors is correctly specified.<br/>[2] The condition number is large, 1.09e+03. This might indicate that there are<br/>strong multicollinearity or other numerical problems."
            ]
          },
          "metadata": {},
          "execution_count": 6
        }
      ]
    },
    {
      "cell_type": "markdown",
      "source": [
        "c) What is the value of AIC for the quadratic\n",
        "fitting? Recall that 𝐴𝐼𝐶 = 𝑛 𝑙𝑛 (SSR) + 2𝑀"
      ],
      "metadata": {
        "id": "YMEYf1SlXJuy"
      }
    },
    {
      "cell_type": "code",
      "source": [
        "Temp2=Temp*Temp                 #Quadratic fitting, y=c+d*x+f*X^2\n",
        "df1['Temp^2']=Temp2\n",
        "x2=df1[['Temp','Temp^2']]\n",
        "x2=sm.add_constant(x2)\n",
        "model2=sm.OLS(y,x2).fit()\n",
        "model2.summary()\n",
        "# from the summary below we get AIC=36.23\n"
      ],
      "metadata": {
        "id": "_vXyxDwdXPuA",
        "colab": {
          "base_uri": "https://localhost:8080/",
          "height": 554
        },
        "outputId": "8da209f5-46c6-419d-f4e3-7b52821935ea"
      },
      "execution_count": null,
      "outputs": [
        {
          "output_type": "stream",
          "name": "stderr",
          "text": [
            "/usr/local/lib/python3.7/dist-packages/statsmodels/tsa/tsatools.py:142: FutureWarning: In a future version of pandas all arguments of concat except for the argument 'objs' will be keyword-only\n",
            "  x = pd.concat(x[::order], 1)\n"
          ]
        },
        {
          "output_type": "execute_result",
          "data": {
            "text/plain": [
              "<class 'statsmodels.iolib.summary.Summary'>\n",
              "\"\"\"\n",
              "                            OLS Regression Results                            \n",
              "==============================================================================\n",
              "Dep. Variable:                      R   R-squared:                       0.965\n",
              "Model:                            OLS   Adj. R-squared:                  0.961\n",
              "Method:                 Least Squares   F-statistic:                     247.2\n",
              "Date:                Wed, 12 Oct 2022   Prob (F-statistic):           8.15e-14\n",
              "Time:                        23:28:51   Log-Likelihood:                -15.113\n",
              "No. Observations:                  21   AIC:                             36.23\n",
              "Df Residuals:                      18   BIC:                             39.36\n",
              "Df Model:                           2                                         \n",
              "Covariance Type:            nonrobust                                         \n",
              "==============================================================================\n",
              "                 coef    std err          t      P>|t|      [0.025      0.975]\n",
              "------------------------------------------------------------------------------\n",
              "const         13.9735      2.166      6.450      0.000       9.422      18.525\n",
              "Temp           0.0297      0.018      1.648      0.117      -0.008       0.068\n",
              "Temp^2      2.657e-05   3.58e-05      0.741      0.468   -4.87e-05       0.000\n",
              "==============================================================================\n",
              "Omnibus:                        0.359   Durbin-Watson:                   2.635\n",
              "Prob(Omnibus):                  0.836   Jarque-Bera (JB):                0.181\n",
              "Skew:                           0.209   Prob(JB):                        0.913\n",
              "Kurtosis:                       2.820   Cond. No.                     1.35e+06\n",
              "==============================================================================\n",
              "\n",
              "Notes:\n",
              "[1] Standard Errors assume that the covariance matrix of the errors is correctly specified.\n",
              "[2] The condition number is large, 1.35e+06. This might indicate that there are\n",
              "strong multicollinearity or other numerical problems.\n",
              "\"\"\""
            ],
            "text/html": [
              "<table class=\"simpletable\">\n",
              "<caption>OLS Regression Results</caption>\n",
              "<tr>\n",
              "  <th>Dep. Variable:</th>            <td>R</td>        <th>  R-squared:         </th> <td>   0.965</td>\n",
              "</tr>\n",
              "<tr>\n",
              "  <th>Model:</th>                   <td>OLS</td>       <th>  Adj. R-squared:    </th> <td>   0.961</td>\n",
              "</tr>\n",
              "<tr>\n",
              "  <th>Method:</th>             <td>Least Squares</td>  <th>  F-statistic:       </th> <td>   247.2</td>\n",
              "</tr>\n",
              "<tr>\n",
              "  <th>Date:</th>             <td>Wed, 12 Oct 2022</td> <th>  Prob (F-statistic):</th> <td>8.15e-14</td>\n",
              "</tr>\n",
              "<tr>\n",
              "  <th>Time:</th>                 <td>23:28:51</td>     <th>  Log-Likelihood:    </th> <td> -15.113</td>\n",
              "</tr>\n",
              "<tr>\n",
              "  <th>No. Observations:</th>      <td>    21</td>      <th>  AIC:               </th> <td>   36.23</td>\n",
              "</tr>\n",
              "<tr>\n",
              "  <th>Df Residuals:</th>          <td>    18</td>      <th>  BIC:               </th> <td>   39.36</td>\n",
              "</tr>\n",
              "<tr>\n",
              "  <th>Df Model:</th>              <td>     2</td>      <th>                     </th>     <td> </td>   \n",
              "</tr>\n",
              "<tr>\n",
              "  <th>Covariance Type:</th>      <td>nonrobust</td>    <th>                     </th>     <td> </td>   \n",
              "</tr>\n",
              "</table>\n",
              "<table class=\"simpletable\">\n",
              "<tr>\n",
              "     <td></td>       <th>coef</th>     <th>std err</th>      <th>t</th>      <th>P>|t|</th>  <th>[0.025</th>    <th>0.975]</th>  \n",
              "</tr>\n",
              "<tr>\n",
              "  <th>const</th>  <td>   13.9735</td> <td>    2.166</td> <td>    6.450</td> <td> 0.000</td> <td>    9.422</td> <td>   18.525</td>\n",
              "</tr>\n",
              "<tr>\n",
              "  <th>Temp</th>   <td>    0.0297</td> <td>    0.018</td> <td>    1.648</td> <td> 0.117</td> <td>   -0.008</td> <td>    0.068</td>\n",
              "</tr>\n",
              "<tr>\n",
              "  <th>Temp^2</th> <td> 2.657e-05</td> <td> 3.58e-05</td> <td>    0.741</td> <td> 0.468</td> <td>-4.87e-05</td> <td>    0.000</td>\n",
              "</tr>\n",
              "</table>\n",
              "<table class=\"simpletable\">\n",
              "<tr>\n",
              "  <th>Omnibus:</th>       <td> 0.359</td> <th>  Durbin-Watson:     </th> <td>   2.635</td>\n",
              "</tr>\n",
              "<tr>\n",
              "  <th>Prob(Omnibus):</th> <td> 0.836</td> <th>  Jarque-Bera (JB):  </th> <td>   0.181</td>\n",
              "</tr>\n",
              "<tr>\n",
              "  <th>Skew:</th>          <td> 0.209</td> <th>  Prob(JB):          </th> <td>   0.913</td>\n",
              "</tr>\n",
              "<tr>\n",
              "  <th>Kurtosis:</th>      <td> 2.820</td> <th>  Cond. No.          </th> <td>1.35e+06</td>\n",
              "</tr>\n",
              "</table><br/><br/>Notes:<br/>[1] Standard Errors assume that the covariance matrix of the errors is correctly specified.<br/>[2] The condition number is large, 1.35e+06. This might indicate that there are<br/>strong multicollinearity or other numerical problems."
            ]
          },
          "metadata": {},
          "execution_count": 7
        }
      ]
    },
    {
      "cell_type": "markdown",
      "source": [
        "d) Which model is better in terms of R^2 ?"
      ],
      "metadata": {
        "id": "cAV7c_SjXP7D"
      }
    },
    {
      "cell_type": "markdown",
      "source": [
        "**ANS.** From the two summary above the quadratic model has better R^2\n",
        "\n",
        "\n",
        "\n"
      ],
      "metadata": {
        "id": "r46CLg3Evqx2"
      }
    },
    {
      "cell_type": "markdown",
      "source": [
        "e) Which model is better in terms of adjusted R^2?"
      ],
      "metadata": {
        "id": "QH9f2TcNXYf4"
      }
    },
    {
      "cell_type": "markdown",
      "source": [
        "**ANS.** From the summaries above, the linear fit model has better adjusted R^2."
      ],
      "metadata": {
        "id": "p9WTQ4hov2_6"
      }
    },
    {
      "cell_type": "markdown",
      "source": [
        "f) What model should you choose based on the theory of goodness of fit?"
      ],
      "metadata": {
        "id": "EaJGalo9X8bV"
      }
    },
    {
      "cell_type": "markdown",
      "source": [
        "**Ans**: The linear model i.e. a+bx should be chosen according to theory of goodness of fit as it is simpler model with higher R^2 adjusted and AIC values.\n"
      ],
      "metadata": {
        "id": "byscsssfX_A_"
      }
    },
    {
      "cell_type": "markdown",
      "source": [
        "2. Goodness of fit by Q-Q Plot\n",
        "Consider the following voltage dataset: 7.19, 6.31, 5.89, 4.5, 3.77, 4.25, 5.19, 5.79, 6.79.. There are 9 data points, therefore let us consider a decile plot."
      ],
      "metadata": {
        "id": "CoKHKTtvYBYE"
      }
    },
    {
      "cell_type": "code",
      "source": [
        "V = np.array([7.19,6.31, 5.89, 4.5, 3.77, 4.25, 5.19, 5.79, 6.79])"
      ],
      "metadata": {
        "id": "CmdS9UOWZYqr"
      },
      "execution_count": null,
      "outputs": []
    },
    {
      "cell_type": "markdown",
      "source": [
        "(a) Use Hazen cdf formula 𝑓 = 𝑖/(𝑛 + 1) to determine the position of the 𝑖-th sample. What is\n",
        "the 𝑓5?"
      ],
      "metadata": {
        "id": "ds5fJ7fNaIdP"
      }
    },
    {
      "cell_type": "code",
      "source": [
        "f=list()\n",
        "V=np.sort(V)\n",
        "for i in range(1,10):\n",
        "  f.append(i/10)\n",
        "f                        #f5=0.5"
      ],
      "metadata": {
        "id": "i3MXKZONaKgu",
        "colab": {
          "base_uri": "https://localhost:8080/"
        },
        "outputId": "9a0a3072-287c-466e-b9ba-1ad4d1d6bb0e"
      },
      "execution_count": null,
      "outputs": [
        {
          "output_type": "execute_result",
          "data": {
            "text/plain": [
              "[0.1, 0.2, 0.3, 0.4, 0.5, 0.6, 0.7, 0.8, 0.9]"
            ]
          },
          "metadata": {},
          "execution_count": 9
        }
      ]
    },
    {
      "cell_type": "markdown",
      "source": [
        "Next we use the inverse formula, 𝑞i = 4.91(𝑓i^0.14 − (1 − 𝑓i)^0.14 to locate position of the\n",
        "location of the samples points, if they are Normally distributed. What is 𝑞5?"
      ],
      "metadata": {
        "id": "ma3OMIqKaKqS"
      }
    },
    {
      "cell_type": "code",
      "source": [
        "q=[]\n",
        "for i in range(0,9):\n",
        "  q.append((4.91*(f[i]**0.14-(1-f[i])**0.14)))\n",
        "print(q)\n",
        "a,b=np.polyfit(V,q,1)\n",
        "plt.scatter(V,q,marker=\"o\")\n",
        "plt.plot(V,b+a*V)\n",
        "#q5=0"
      ],
      "metadata": {
        "id": "FI92BkFYaKz9",
        "colab": {
          "base_uri": "https://localhost:8080/",
          "height": 300
        },
        "outputId": "f2cc4531-7cbb-45d2-9b28-cc5b47a9b613"
      },
      "execution_count": null,
      "outputs": [
        {
          "output_type": "stream",
          "name": "stdout",
          "text": [
            "[-1.281126151038121, -0.8395272278614687, -0.5224630525257601, -0.2522528662220316, 0.0, 0.2522528662220316, 0.5224630525257601, 0.8395272278614687, 1.281126151038121]\n"
          ]
        },
        {
          "output_type": "execute_result",
          "data": {
            "text/plain": [
              "[<matplotlib.lines.Line2D at 0x7fb0014ff590>]"
            ]
          },
          "metadata": {},
          "execution_count": 10
        },
        {
          "output_type": "display_data",
          "data": {
            "text/plain": [
              "<Figure size 432x288 with 1 Axes>"
            ],
            "image/png": "[encoded data removed]"
          },
          "metadata": {
            "needs_background": "light"
          }
        }
      ]
    },
    {
      "cell_type": "markdown",
      "source": [
        "Then we plot the sorted voltages observed in experiment (as the x-axis) vs. 𝑞𝑖 (as the y-axis) to see if there  is straight line correlation. A straight line fit by Wolfram alpha gives 𝑦 = 0.69𝑥 − 3.80"
      ],
      "metadata": {
        "id": "aDV4e38VaK7i"
      }
    },
    {
      "cell_type": "markdown",
      "source": [
        "c.) What is the R^2?"
      ],
      "metadata": {
        "id": "fHMrD6RbdATc"
      }
    },
    {
      "cell_type": "code",
      "source": [
        "q=np.array(q)\n",
        "model=LinearRegression()\n",
        "V2=V.reshape(-1,1)\n",
        "model.fit(V2,q)\n",
        "print(f'R^2={model.score(V2,q)}')\n"
      ],
      "metadata": {
        "id": "hI8e7kaTaLDp",
        "colab": {
          "base_uri": "https://localhost:8080/"
        },
        "outputId": "1a382cf6-3aba-4f7e-84c4-8cc14f3345d8"
      },
      "execution_count": null,
      "outputs": [
        {
          "output_type": "stream",
          "name": "stdout",
          "text": [
            "R^2=0.9825855644541203\n"
          ]
        }
      ]
    },
    {
      "cell_type": "markdown",
      "source": [
        "Based on the correlation coefficient table, is the linear line (and by extension Normal distribution) a good fit?"
      ],
      "metadata": {
        "id": "yaKp5zUcaLLO"
      }
    },
    {
      "cell_type": "code",
      "source": [
        "np.corrcoef(V,q)"
      ],
      "metadata": {
        "id": "eX4zvkQcErOR",
        "outputId": "a9b76e18-d745-4423-d119-6216977f1cf6",
        "colab": {
          "base_uri": "https://localhost:8080/"
        }
      },
      "execution_count": null,
      "outputs": [
        {
          "output_type": "execute_result",
          "data": {
            "text/plain": [
              "array([[1.        , 0.99125454],\n",
              "       [0.99125454, 1.        ]])"
            ]
          },
          "metadata": {},
          "execution_count": 12
        }
      ]
    },
    {
      "cell_type": "markdown",
      "source": [
        "**Ans:** Correlation Coefficient=0.9912. Referring the table, at significance level of 0.05 the critical value of correleation coefficient for df=7 is 0.66 which is lower than the calculated value. hence this is not a good fit."
      ],
      "metadata": {
        "id": "1RYG4oxX2cEp"
      }
    },
    {
      "cell_type": "markdown",
      "source": [
        "Determine 𝐷9 for Kolmogorov-Smirnov Test."
      ],
      "metadata": {
        "id": "PLE2DoB92cY_"
      }
    },
    {
      "cell_type": "code",
      "source": [
        "kstest(V,\"norm\" )  #KS test to check if the voltage data comes from normal distribution\n"
      ],
      "metadata": {
        "id": "LMCTJSSM2chL",
        "colab": {
          "base_uri": "https://localhost:8080/"
        },
        "outputId": "39fefdba-460d-4b01-ef94-f393856399ee"
      },
      "execution_count": null,
      "outputs": [
        {
          "output_type": "execute_result",
          "data": {
            "text/plain": [
              "KstestResult(statistic=0.9999183762262973, pvalue=3.2164738280608494e-37)"
            ]
          },
          "metadata": {},
          "execution_count": 13
        }
      ]
    },
    {
      "cell_type": "markdown",
      "source": [
        "Compared to 𝐷𝑐𝑟𝑖𝑡(n=9), would you say it is a good fit?"
      ],
      "metadata": {
        "id": "gMpqw8jc2cqk"
      }
    },
    {
      "cell_type": "markdown",
      "source": [
        "**Ans:**Dcrit(n=9)=0.430 at a significance level of 0.05 which is less than D(n=9)= 0.99. Hence this is not a good fit and the sample does not come from normal distribution."
      ],
      "metadata": {
        "id": "rp7kg-TR2lO5"
      }
    }
  ]
}